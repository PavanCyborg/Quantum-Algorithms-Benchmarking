{
 "cells": [
  {
   "cell_type": "code",
   "execution_count": 1,
   "id": "a746786d-3a65-4f46-ad4d-08bf848f5c64",
   "metadata": {},
   "outputs": [
    {
     "data": {
      "text/html": [
       "<pre style=\"word-wrap: normal;white-space: pre;background: #fff0;line-height: 1.1;font-family: &quot;Courier New&quot;,Courier,monospace\">     ┌──────────┐┌─────────┐            ┌──────────┐            ┌──────────┐\n",
       "q_0: ┤0         ├┤0        ├────────────┤0         ├────────────┤1         ├\n",
       "     │  su4_780 ││         │┌──────────┐│          │┌──────────┐│  su4_976 │\n",
       "q_1: ┤1         ├┤         ├┤0         ├┤          ├┤1         ├┤0         ├\n",
       "     ├──────────┤│  su4_22 ││  su4_620 ││  su4_644 ││  su4_412 │├──────────┤\n",
       "q_2: ┤1         ├┤         ├┤1         ├┤          ├┤0         ├┤1         ├\n",
       "     │  su4_742 ││         │└──────────┘│          │└──────────┘│  su4_830 │\n",
       "q_3: ┤0         ├┤1        ├────────────┤1         ├────────────┤0         ├\n",
       "     └──────────┘└─────────┘            └──────────┘            └──────────┘</pre>"
      ],
      "text/plain": [
       "     ┌──────────┐┌─────────┐            ┌──────────┐            ┌──────────┐\n",
       "q_0: ┤0         ├┤0        ├────────────┤0         ├────────────┤1         ├\n",
       "     │  su4_780 ││         │┌──────────┐│          │┌──────────┐│  su4_976 │\n",
       "q_1: ┤1         ├┤         ├┤0         ├┤          ├┤1         ├┤0         ├\n",
       "     ├──────────┤│  su4_22 ││  su4_620 ││  su4_644 ││  su4_412 │├──────────┤\n",
       "q_2: ┤1         ├┤         ├┤1         ├┤          ├┤0         ├┤1         ├\n",
       "     │  su4_742 ││         │└──────────┘│          │└──────────┘│  su4_830 │\n",
       "q_3: ┤0         ├┤1        ├────────────┤1         ├────────────┤0         ├\n",
       "     └──────────┘└─────────┘            └──────────┘            └──────────┘"
      ]
     },
     "execution_count": 1,
     "metadata": {},
     "output_type": "execute_result"
    }
   ],
   "source": [
    "from qiskit.circuit.library import QuantumVolume as QuantumVolumeCircuit\n",
    "from qiskit.quantum_info import Statevector\n",
    "qv_circuit = QuantumVolumeCircuit(4)\n",
    "qv_circuit.decompose().draw() "
   ]
  },
  {
   "cell_type": "code",
   "execution_count": 2,
   "id": "2687872c-1f63-4202-9b62-f2dcc4b203f2",
   "metadata": {},
   "outputs": [],
   "source": [
    "def get_heavy_outputs(counts):\n",
    "    \"\"\"Extract heavy outputs from counts dict.\n",
    "    Args:\n",
    "        counts (dict): Output of `.get_counts()`\n",
    "    Returns:\n",
    "        list: All states with measurement probability greater\n",
    "              than the mean.\n",
    "    \"\"\"\n",
    "    # sort the keys of `counts` by value of counts.get(key)\n",
    "    sorted_counts = sorted(counts.keys(), key=counts.get)\n",
    "    # discard results with probability < median\n",
    "    heavy_outputs = sorted_counts[len(sorted_counts)//2:]\n",
    "    return heavy_outputs\n",
    "\n",
    "\n"
   ]
  },
  {
   "cell_type": "code",
   "execution_count": 3,
   "id": "d16a940f-8286-40f7-9a27-70321c056d91",
   "metadata": {},
   "outputs": [],
   "source": [
    "def check_threshold(nheavies, ncircuits, nshots):\n",
    "    \"\"\"Evaluate adjusted threshold inequality for quantum volume.\n",
    "    Args:\n",
    "        nheavies (int): Total number of heavy outputs measured from device\n",
    "        ncircuits (int): Number of different square circuits run on device\n",
    "        nshots (int): Number of shots per circuit\n",
    "    Returns:\n",
    "        Bool:\n",
    "            True if heavy output probability is > 2/3 with 97% certainty,\n",
    "            otherwise False\n",
    "    \"\"\"\n",
    "    from numpy import sqrt\n",
    "    numerator = nheavies - 2*sqrt(nheavies*(nshots-(nheavies/ncircuits)))\n",
    "    return bool(numerator/(ncircuits*nshots) > 2/3)"
   ]
  },
  {
   "cell_type": "code",
   "execution_count": 4,
   "id": "4bd50ff4-1bf6-4898-a77e-53a026cc4b4c",
   "metadata": {},
   "outputs": [],
   "source": [
    "from qiskit import transpile\n",
    "from qiskit.visualization import plot_histogram\n",
    "def test_qv(device, nqubits, ncircuits, nshots):\n",
    "    \"\"\"Try to achieve 2**nqubits quantum volume on device.\n",
    "    Args:\n",
    "        device (qiskit.providers.Backend): Device to test.\n",
    "        nqubits (int): Number of qubits to use for test.\n",
    "        ncircuits (int): Number of different circuits to run on the device.\n",
    "        nshots (int): Number of shots per circuit.\n",
    "    Returns:\n",
    "        Bool\n",
    "            True if device passes test, otherwise False.\n",
    "    \"\"\"\n",
    "    def get_ideal_probabilities(circuit):\n",
    "        \"\"\"Simulates circuit behaviour on a device with no errors.\"\"\"\n",
    "        state_vector = Statevector.from_instruction(\n",
    "                circuit.remove_final_measurements(inplace=False)\n",
    "            )\n",
    "        \n",
    "        #print(state_vector.probabilities_dict())\n",
    "        return state_vector.probabilities_dict()\n",
    "\n",
    "    def get_real_counts(circuit, backend, shots):\n",
    "        \"\"\"Runs circuit on device and returns counts dict.\"\"\"\n",
    "        t_circuit = transpile(circuit, backend)\n",
    "        job = backend.run(t_circuit,\n",
    "                          shots=shots,\n",
    "                          memory=True)\n",
    "        #print(job.result().get_counts())\n",
    "        return job.result().get_counts()\n",
    "\n",
    "    # generate set of random circuits\n",
    "    qv_circuits = [\n",
    "        QuantumVolumeCircuit(nqubits) for c in range(ncircuits)\n",
    "    ]\n",
    "\n",
    "    nheavies = 0  # number of measured heavy outputs\n",
    "    for circuit in qv_circuits:\n",
    "        # simulate circuit\n",
    "        ideal_heavy_outputs = get_heavy_outputs(\n",
    "            get_ideal_probabilities(circuit)\n",
    "        )\n",
    "        # run circuit on device\n",
    "        circuit.measure_all()\n",
    "        real_counts = get_real_counts(circuit, device, nshots)\n",
    "        # record whether device result is in the heavy outputs\n",
    "        for output, count in real_counts.items():\n",
    "            if output in ideal_heavy_outputs:\n",
    "                nheavies += count\n",
    "\n",
    "    # do statistical check to see if device passes test\n",
    "    is_pass = check_threshold(nheavies, ncircuits, nshots)\n",
    "    # calculate percentage of measurements that are heavy outputs\n",
    "    percent_heavy_outputs = nheavies*100/(ncircuits * nshots)\n",
    "\n",
    "    print(f\"Quantum Volume: {2**nqubits}\\n\"\n",
    "          f\"Percentage Heavy Outputs: {percent_heavy_outputs:.1f}%\\n\"\n",
    "          f\"Passed?: {is_pass}\\n\")\n",
    "    return is_pass"
   ]
  },
  {
   "cell_type": "code",
   "execution_count": null,
   "id": "c90d57fd-a0a2-4260-be2a-757617d70bfc",
   "metadata": {},
   "outputs": [
    {
     "name": "stderr",
     "output_type": "stream",
     "text": [
      "/tmp/ipykernel_24724/2675615764.py:2: DeprecationWarning: All fake backend instances based on real device snapshots (`FakeVigo`,`FakeSherbrooke`,...) have been migrated to the `qiskit_ibm_runtime` package. These classes are deprecated as of qiskit 0.46.0 and will be removed in qiskit 1.0.0. To migrate your code, run `pip install qiskit-ibm-runtime` and use `from qiskit_ibm_runtime.fake_provider import FakeExample` instead of `from qiskit.providers.fake_provider import FakeExample`. If you are using a custom fake backend implementation, you don't need to take any action.\n",
      "  santiago = FakeSantiago()\n"
     ]
    }
   ],
   "source": [
    "from qiskit.providers.fake_provider import FakeSantiago\n",
    "santiago = FakeSantiago()\n",
    "test_qv(santiago, 5, ncircuits=150, nshots=50)"
   ]
  }
 ],
 "metadata": {
  "kernelspec": {
   "display_name": "Python 3 (ipykernel)",
   "language": "python",
   "name": "python3"
  },
  "language_info": {
   "codemirror_mode": {
    "name": "ipython",
    "version": 3
   },
   "file_extension": ".py",
   "mimetype": "text/x-python",
   "name": "python",
   "nbconvert_exporter": "python",
   "pygments_lexer": "ipython3",
   "version": "3.10.4"
  }
 },
 "nbformat": 4,
 "nbformat_minor": 5
}
