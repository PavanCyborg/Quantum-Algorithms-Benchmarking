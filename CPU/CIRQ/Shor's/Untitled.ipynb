{
 "cells": [
  {
   "cell_type": "code",
   "execution_count": 1,
   "id": "2ac382d8-2276-442e-a485-9a86140f43c3",
   "metadata": {},
   "outputs": [],
   "source": [
    "def update_counts(gates,custom_gates):\n",
    "    operations = {}\n",
    "    for key, value in gates.items():\n",
    "        operations[key] = value\n",
    "    for key, value in custom_gates.items():\n",
    "        if key in operations:\n",
    "            operations[key] += value\n",
    "        else:\n",
    "            operations[key] = value       \n",
    "    return operations\n",
    "\n",
    "def get_gate_counts(gates,custom_gate_defs):\n",
    "    result = gates.copy()\n",
    "    # Iterate over the gate counts in the quantum circuit\n",
    "    for gate, count in gates.items():\n",
    "        if gate in custom_gate_defs:\n",
    "            custom_gate_ops = custom_gate_defs[gate]\n",
    "            # Multiply custom gate operations by the count of the custom gate in the circuit\n",
    "            for _ in range(count):\n",
    "                result = update_counts(result, custom_gate_ops)\n",
    "            # Remove the custom gate entry as we have expanded it\n",
    "            del result[gate]\n",
    "    return result"
   ]
  },
  {
   "cell_type": "code",
   "execution_count": 7,
   "id": "6f6c267a-65dc-4391-95db-8364a6adedfe",
   "metadata": {},
   "outputs": [],
   "source": [
    "import cirq\n",
    "counts_dict =  {cirq.H: 4, cirq.X: 1, 'C-U^2': 1, 'C-U^4': 1, 'C-U^16': 1, 'C-U^256': 1, 'inv_qft': 1}\n",
    "defs = {'C-U^2': {'cMULTamodN': 1, cirq.FREDKIN: 2, (\"0x78369e2a1de0**-1\"): 1}}"
   ]
  },
  {
   "cell_type": "code",
   "execution_count": 8,
   "id": "942608da-d5d2-48a6-a633-afc26d9a1757",
   "metadata": {},
   "outputs": [
    {
     "name": "stdout",
     "output_type": "stream",
     "text": [
      "{cirq.H: 4, cirq.X: 1, 'C-U^4': 1, 'C-U^16': 1, 'C-U^256': 1, 'inv_qft': 1, 'cMULTamodN': 1, cirq.FREDKIN: 2, '0x78369e2a1de0**-1': 1}\n"
     ]
    }
   ],
   "source": [
    "a1 = get_gate_counts(counts_dict,defs)\n",
    "print(a1)"
   ]
  },
  {
   "cell_type": "code",
   "execution_count": 9,
   "id": "99c93065-3295-4b03-b048-d98ca2e71d71",
   "metadata": {},
   "outputs": [
    {
     "name": "stdout",
     "output_type": "stream",
     "text": [
      "{cirq.H: 4, cirq.X: 1, 'C-U^4': 1, 'C-U^16': 1, 'C-U^256': 1, 'inv_qft': 2, cirq.FREDKIN: 2, '0x78369e2a1de0**-1': 1, 'qft': 1, 'ccφADDmodN': 2}\n"
     ]
    }
   ],
   "source": [
    "defs = {'cMULTamodN': {'qft': 1, 'ccφADDmodN': 2, 'inv_qft': 1}}\n",
    "a2 =get_gate_counts(a1,defs)\n",
    "print(a2)"
   ]
  },
  {
   "cell_type": "code",
   "execution_count": 10,
   "id": "a1e39b6a-5dbe-4103-a536-dac53721cb1f",
   "metadata": {},
   "outputs": [
    {
     "name": "stdout",
     "output_type": "stream",
     "text": [
      "{cirq.H: 7, cirq.X: 1, 'C-U^4': 1, 'C-U^16': 1, 'C-U^256': 1, 'inv_qft': 2, cirq.FREDKIN: 2, '0x78369e2a1de0**-1': 1, 'ccφADDmodN': 2, (cirq.CZ**0.5): 2, (cirq.CZ**0.25): 1}\n"
     ]
    }
   ],
   "source": [
    "defs ={'qft': {cirq.H: 3, (cirq.CZ**0.5): 2, (cirq.CZ**0.25): 1}}\n",
    "a3 = get_gate_counts(a2,defs)\n",
    "print(a3)"
   ]
  },
  {
   "cell_type": "code",
   "execution_count": 12,
   "id": "7a8f3faa-2443-4518-9853-2a199b0cbe0f",
   "metadata": {},
   "outputs": [
    {
     "name": "stdout",
     "output_type": "stream",
     "text": [
      "{cirq.H: 7, cirq.X: 5, 'C-U^4': 1, 'C-U^16': 1, 'C-U^256': 1, 'inv_qft': 6, cirq.FREDKIN: 2, '0x78369e2a1de0**-1': 1, (cirq.CZ**0.5): 2, (cirq.CZ**0.25): 1, 'cirq.ControlledGate(sub_gate=<cirq_utils.to_gate object at 0x78369e35fee0>, num_controls=2)': 4, ' 0x78369e370850>**-1': 2, cirq.CNOT: 4, 'qft': 4, 'cirq.ControlledGate(sub_gate=<cirq_utils.to_gate object at 0x78369e370ca0>)': 2, 'cirq.ControlledGate(sub_gate=(<cirq_utils.to_gate object at 0x78369e370370>**-1), num_controls=2)': 2}\n"
     ]
    }
   ],
   "source": [
    "defs = {'ccφADDmodN': {\"cirq.ControlledGate(sub_gate=<cirq_utils.to_gate object at 0x78369e35fee0>, num_controls=2)\": 2, \n",
    "                       \" 0x78369e370850>**-1\": 1, 'inv_qft': 2, cirq.CNOT: 2, 'qft': 2, \n",
    "                       \"cirq.ControlledGate(sub_gate=<cirq_utils.to_gate object at 0x78369e370ca0>)\": 1,\n",
    "                       \"cirq.ControlledGate(sub_gate=(<cirq_utils.to_gate object at 0x78369e370370>**-1), num_controls=2)\": 1, cirq.X: 2}}\n",
    "a4 =get_gate_counts(a3,defs)\n",
    "print(a4)"
   ]
  },
  {
   "cell_type": "code",
   "execution_count": 13,
   "id": "79684b2a-e8b7-4306-b1f4-bb4055b1b50b",
   "metadata": {},
   "outputs": [
    {
     "data": {
      "text/plain": [
       "45"
      ]
     },
     "execution_count": 13,
     "metadata": {},
     "output_type": "execute_result"
    }
   ],
   "source": [
    "X=\"<cirq_utils.to_gate object at 0x7b58ee428be0>†(q(1, 0), q(1, 1), q(1, 2))\"\n",
    "X.find(\"†\")"
   ]
  },
  {
   "cell_type": "code",
   "execution_count": 14,
   "id": "2276fd38-9458-4b08-bcab-a7779cc9e939",
   "metadata": {},
   "outputs": [
    {
     "ename": "SyntaxError",
     "evalue": "invalid syntax (1306897474.py, line 5)",
     "output_type": "error",
     "traceback": [
      "\u001b[0;36m  Cell \u001b[0;32mIn[14], line 5\u001b[0;36m\u001b[0m\n\u001b[0;31m    'C-U^2': {'cMULTamodN': 1, cirq.FREDKIN: 2, (<cirq_utils.to_gate object at 0x7afc98e25e40>**-1): 1},\u001b[0m\n\u001b[0m                                                 ^\u001b[0m\n\u001b[0;31mSyntaxError\u001b[0m\u001b[0;31m:\u001b[0m invalid syntax\n"
     ]
    }
   ],
   "source": [
    "import cirq\n",
    "\n",
    "# Assuming `dict_of_qc` is your dictionary\n",
    "dict_of_qc = {\n",
    "    'C-U^2': {'cMULTamodN': 1, cirq.FREDKIN: 2, (<cirq_utils.to_gate object at 0x7afc98e25e40>**-1): 1},\n",
    "    'cMULTamodN': {'qft': 1, 'ccφADDmodN': 2, 'inv_qft': 1},\n",
    "    'qft': {cirq.H: 3, (cirq.CZ**0.5): 2, (cirq.CZ**0.25): 1},\n",
    "    'ccφADDmodN': {\n",
    "        cirq.ControlledGate(sub_gate=<cirq_utils.to_gate object at 0x7afc98cfbf40>, num_controls=2): 2,\n",
    "        (<cirq_utils.to_gate object at 0x7afc98d0c8b0>**-1): 1,\n",
    "        'inv_qft': 2, cirq.CNOT: 2, 'qft': 2,\n",
    "        cirq.ControlledGate(sub_gate=<cirq_utils.to_gate object at 0x7afc98d0cd00>): 1,\n",
    "        cirq.ControlledGate(sub_gate=(<cirq_utils.to_gate object at 0x7afc98d0c3d0>**-1), num_controls=2): 1,\n",
    "        cirq.X: 2\n",
    "    },\n",
    "    'inv_qft': {cirq.H: 4, (cirq.CZ**-0.5): 3, (cirq.CZ**-0.25): 2, (cirq.CZ**-0.125): 1},\n",
    "    'C-U^4': {'cMULTamodN': 1, cirq.FREDKIN: 2, (<cirq_utils.to_gate object at 0x7afc98e8dfc0>**-1): 1},\n",
    "    'C-U^16': {'cMULTamodN': 1, cirq.FREDKIN: 2, (<cirq_utils.to_gate object at 0x7afc98ee2050>**-1): 1},\n",
    "    'C-U^256': {'cMULTamodN': 1, cirq.FREDKIN: 2, (<cirq_utils.to_gate object at 0x7afc98d36110>**-1): 1}\n",
    "}\n",
    "\n",
    "# Function to remove dagger by inverting the gate\n",
    "def remove_dagger_from_gate(gate):\n",
    "    if isinstance(gate, cirq.Gate):\n",
    "        return cirq.inverse(gate)\n",
    "    return gate\n",
    "\n",
    "# Traverse the dictionary and update gates with daggers\n",
    "def process_dict(d):\n",
    "    new_dict = {}\n",
    "    for key, value in d.items():\n",
    "        if isinstance(value, dict):\n",
    "            new_dict[key] = process_dict(value)\n",
    "        else:\n",
    "            if isinstance(key, cirq.ops.GateOperation) and isinstance(key.gate, cirq.Gate):\n",
    "                exponent = key.gate.exponent if hasattr(key.gate, 'exponent') else 1\n",
    "                if exponent != 1:  # Check if it has an exponent\n",
    "                    undaggered_gate = cirq.inverse(key.gate)\n",
    "                    new_dict[undaggered_gate(*key.qubits)] = value\n",
    "                else:\n",
    "                    new_dict[key] = value\n",
    "            else:\n",
    "                new_dict[key] = value\n",
    "    return new_dict\n",
    "\n",
    "processed_dict_of_qc = process_dict(dict_of_qc)\n",
    "\n",
    "# Print the processed dictionary\n",
    "print(processed_dict_of_qc)\n"
   ]
  },
  {
   "cell_type": "code",
   "execution_count": null,
   "id": "ee759ef1-1a14-45e9-912a-32753f4a3786",
   "metadata": {},
   "outputs": [],
   "source": [
    "dict_of_qc : {'C-U^2': {'cMULTamodN': 1, cirq.FREDKIN: 2, (<cirq_utils.to_gate object at 0x7a96501b9f90>**-1): 1},\n",
    "              'cMULTamodN': {'qft': 1, 'ccφADDmodN': 2, 'inv_qft': 1}, \n",
    "              'qft': {cirq.H: 3, (cirq.CZ**0.5): 2, (cirq.CZ**0.25): 1},\n",
    "              'ccφADDmodN': {cirq.ControlledGate(sub_gate=<cirq_utils.to_gate object at 0x7a96500a7ee0>, num_controls=2): 2, (<cirq_utils.to_gate object at 0x7a96500b49a0>**-1): 1,\n",
    "              'inv_qft': 2, \n",
    "              cirq.CNOT: 2,\n",
    "              'qft': 2, cirq.ControlledGate(sub_gate=<cirq_utils.to_gate object at 0x7a96500b4df0>): 1, cirq.ControlledGate(sub_gate=(<cirq_utils.to_gate object at 0x7a96500b44c0>**-1), num_controls=2): 1, cirq.X: 2}, 'φADD': {cirq.Rz(rads=0.0): 1, cirq.Rz(rads=3.141592653589793): 1, cirq.Rz(rads=1.5707963267948966): 1}, 'inv_qft': {cirq.H: 4, (cirq.CZ**-0.5): 3, (cirq.CZ**-0.25): 2, (cirq.CZ**-0.125): 1}, 'C-U^4': {'cMULTamodN': 1, cirq.FREDKIN: 2, (<cirq_utils.to_gate object at 0x7a9650042110>**-1): 1}, 'C-U^16': {'cMULTamodN': 1, cirq.FREDKIN: 2, (<cirq_utils.to_gate object at 0x7a965008e1a0>**-1): 1}, 'C-U^256': {'cMULTamodN': 1, cirq.FREDKIN: 2, (<cirq_utils.to_gate object at 0x7a96500e2200>**-1): 1}}"
   ]
  }
 ],
 "metadata": {
  "kernelspec": {
   "display_name": "Python 3 (ipykernel)",
   "language": "python",
   "name": "python3"
  },
  "language_info": {
   "codemirror_mode": {
    "name": "ipython",
    "version": 3
   },
   "file_extension": ".py",
   "mimetype": "text/x-python",
   "name": "python",
   "nbconvert_exporter": "python",
   "pygments_lexer": "ipython3",
   "version": "3.10.14"
  }
 },
 "nbformat": 4,
 "nbformat_minor": 5
}
