{
 "cells": [
  {
   "cell_type": "code",
   "execution_count": 1,
   "id": "ab39ec7c-836a-4457-9ba9-e0976585116b",
   "metadata": {},
   "outputs": [],
   "source": [
    "import cirq"
   ]
  },
  {
   "cell_type": "code",
   "execution_count": 2,
   "id": "838c4996-2e90-4d14-b24b-584ba9972803",
   "metadata": {},
   "outputs": [
    {
     "name": "stdout",
     "output_type": "stream",
     "text": [
      "Help on class CZTargetGateset in module cirq.transformers.target_gatesets.cz_gateset:\n",
      "\n",
      "class CZTargetGateset(cirq.transformers.target_gatesets.compilation_target_gateset.TwoQubitCompilationTargetGateset)\n",
      " |  CZTargetGateset(*, atol: float = 1e-08, allow_partial_czs: bool = False, additional_gates: Sequence[Union[Type[ForwardRef('cirq.Gate')], ForwardRef('cirq.Gate'), ForwardRef('cirq.GateFamily')]] = (), preserve_moment_structure: bool = True) -> None\n",
      " |  \n",
      " |  Target gateset accepting CZ + single qubit rotations + measurement gates.\n",
      " |  \n",
      " |  By default, `cirq.CZTargetGateset` will accept and compile unknown gates to\n",
      " |  the following universal target gateset:\n",
      " |  - `cirq.CZ` / `cirq.CZPowGate`: The two qubit entangling gate.\n",
      " |  - `cirq.PhasedXZGate`: Single qubit rotations.\n",
      " |  - `cirq.MeasurementGate`: Measurements.\n",
      " |  - `cirq.GlobalPhaseGate`: Global phase.\n",
      " |  \n",
      " |  Optionally, users can also specify additional gates / gate families which should\n",
      " |  be accepted by this gateset via the `additional_gates` argument.\n",
      " |  \n",
      " |  When compiling a circuit, any unknown gate, i.e. a gate which is not accepted by\n",
      " |  this gateset, will be compiled to the default gateset (i.e. `cirq.CZ`/`cirq.CZPowGate`,\n",
      " |  `cirq.PhasedXZGate`, `cirq.MeasurementGate`).\n",
      " |  \n",
      " |  Method resolution order:\n",
      " |      CZTargetGateset\n",
      " |      cirq.transformers.target_gatesets.compilation_target_gateset.TwoQubitCompilationTargetGateset\n",
      " |      cirq.transformers.target_gatesets.compilation_target_gateset.CompilationTargetGateset\n",
      " |      cirq.ops.gateset.Gateset\n",
      " |      builtins.object\n",
      " |  \n",
      " |  Methods defined here:\n",
      " |  \n",
      " |  __init__(self, *, atol: float = 1e-08, allow_partial_czs: bool = False, additional_gates: Sequence[Union[Type[ForwardRef('cirq.Gate')], ForwardRef('cirq.Gate'), ForwardRef('cirq.GateFamily')]] = (), preserve_moment_structure: bool = True) -> None\n",
      " |      Initializes CZTargetGateset\n",
      " |      \n",
      " |      Args:\n",
      " |          atol: A limit on the amount of absolute error introduced by the decomposition.\n",
      " |          allow_partial_czs: If set, all powers of the form `cirq.CZ**t`, and not just\n",
      " |           `cirq.CZ`, are part of this gateset.\n",
      " |          additional_gates: Sequence of additional gates / gate families which should also\n",
      " |            be \"accepted\" by this gateset. This is empty by default.\n",
      " |          preserve_moment_structure: Whether to preserve the moment structure of the\n",
      " |              circuit during compilation or not.\n",
      " |  \n",
      " |  __repr__(self) -> str\n",
      " |      Return repr(self).\n",
      " |  \n",
      " |  ----------------------------------------------------------------------\n",
      " |  Data and other attributes defined here:\n",
      " |  \n",
      " |  __abstractmethods__ = frozenset()\n",
      " |  \n",
      " |  ----------------------------------------------------------------------\n",
      " |  Methods inherited from cirq.transformers.target_gatesets.compilation_target_gateset.TwoQubitCompilationTargetGateset:\n",
      " |  \n",
      " |  decompose_to_target_gateset(self, op: 'cirq.Operation', moment_idx: int) -> Union[NoneType, Any, ForwardRef('cirq.OP_TREE')]\n",
      " |      Method to rewrite the given operation using gates from this gateset.\n",
      " |      \n",
      " |      Args:\n",
      " |          op: `cirq.Operation` to be rewritten using gates from this gateset.\n",
      " |          moment_idx: Moment index where the given operation `op` occurs in a circuit.\n",
      " |      \n",
      " |      Returns:\n",
      " |          - An equivalent `cirq.OP_TREE` implementing `op` using gates from this gateset.\n",
      " |          - `None` or `NotImplemented` if does not know how to decompose `op`.\n",
      " |  \n",
      " |  ----------------------------------------------------------------------\n",
      " |  Readonly properties inherited from cirq.transformers.target_gatesets.compilation_target_gateset.TwoQubitCompilationTargetGateset:\n",
      " |  \n",
      " |  num_qubits\n",
      " |      Maximum number of qubits on which a gate from this gateset can act upon.\n",
      " |  \n",
      " |  ----------------------------------------------------------------------\n",
      " |  Readonly properties inherited from cirq.transformers.target_gatesets.compilation_target_gateset.CompilationTargetGateset:\n",
      " |  \n",
      " |  postprocess_transformers\n",
      " |      List of transformers which should be run after decomposing individual operations.\n",
      " |  \n",
      " |  preprocess_transformers\n",
      " |      List of transformers which should be run before decomposing individual operations.\n",
      " |  \n",
      " |  ----------------------------------------------------------------------\n",
      " |  Methods inherited from cirq.ops.gateset.Gateset:\n",
      " |  \n",
      " |  __contains__(self, item: Union[cirq.ops.raw_types.Gate, cirq.ops.raw_types.Operation]) -> bool\n",
      " |      Check for containment of a given Gate/Operation in this Gateset.\n",
      " |      \n",
      " |      Containment checks are handled as follows:\n",
      " |      \n",
      " |      - For Gates or Operations that have an underlying gate (i.e. op.gate is not None):\n",
      " |          - Forwards the containment check to the underlying `cirq.GateFamily` objects.\n",
      " |          - Examples of such operations include `cirq.GateOperation`s and their controlled\n",
      " |              and tagged variants (i.e. instances of `cirq.TaggedOperation`,\n",
      " |              `cirq.ControlledOperation` where `op.gate` is not None) etc.\n",
      " |      - For Operations that do not have an underlying gate:\n",
      " |          - Forwards the containment check to `self._validate_operation(item)`.\n",
      " |          - Examples of such operations include `cirq.CircuitOperation`s and their controlled\n",
      " |              and tagged variants (i.e. instances of `cirq.TaggedOperation`,\n",
      " |              `cirq.ControlledOperation` where `op.gate` is None) etc.\n",
      " |      \n",
      " |      The complexity of the method in terms of the number of `gates`, n, is\n",
      " |      \n",
      " |      - O(1) when any default `cirq.GateFamily` instance accepts the given item, except\n",
      " |          for an Instance GateFamily trying to match an item with a different global phase.\n",
      " |      - O(n) for all other cases: matching against custom gate families, matching across\n",
      " |          global phase for the default Instance GateFamily, no match against any underlying\n",
      " |          gate family.\n",
      " |      \n",
      " |      Args:\n",
      " |          item: The `cirq.Gate` or `cirq.Operation` instance to check containment for.\n",
      " |  \n",
      " |  __eq__ = _value_equality_eq(self: cirq.value.value_equality_attr._SupportsValueEquality, other: cirq.value.value_equality_attr._SupportsValueEquality) -> bool\n",
      " |  \n",
      " |  __hash__ = _value_equality_hash(self: cirq.value.value_equality_attr._SupportsValueEquality) -> int\n",
      " |  \n",
      " |  __ne__ = _value_equality_ne(self: cirq.value.value_equality_attr._SupportsValueEquality, other: cirq.value.value_equality_attr._SupportsValueEquality) -> bool\n",
      " |  \n",
      " |  __str__(self) -> str\n",
      " |      Return str(self).\n",
      " |  \n",
      " |  validate(self, circuit_or_optree: Union[ForwardRef('cirq.AbstractCircuit'), cirq.ops.raw_types.Operation, cirq.ops.op_tree.OpTree]) -> bool\n",
      " |      Validates gates forming `circuit_or_optree` should be contained in Gateset.\n",
      " |      \n",
      " |      Args:\n",
      " |          circuit_or_optree: The `cirq.Circuit` or `cirq.OP_TREE` to validate.\n",
      " |  \n",
      " |  with_params(self, *, name: Optional[str] = None, unroll_circuit_op: Optional[bool] = None) -> 'Gateset'\n",
      " |      Returns a copy of this Gateset with identical gates and new values for named arguments.\n",
      " |      \n",
      " |      If a named argument is None then corresponding value of this Gateset is used instead.\n",
      " |      \n",
      " |      Args:\n",
      " |          name: New name for the Gateset.\n",
      " |          unroll_circuit_op: If True, new Gateset will recursively validate\n",
      " |              `cirq.CircuitOperation` by validating the underlying `cirq.Circuit`.\n",
      " |      \n",
      " |      Returns:\n",
      " |          `self` if all new values are None or identical to the values of current Gateset.\n",
      " |          else a new Gateset with identical gates and new values for named arguments.\n",
      " |  \n",
      " |  ----------------------------------------------------------------------\n",
      " |  Readonly properties inherited from cirq.ops.gateset.Gateset:\n",
      " |  \n",
      " |  gates\n",
      " |  \n",
      " |  name\n",
      " |  \n",
      " |  ----------------------------------------------------------------------\n",
      " |  Data descriptors inherited from cirq.ops.gateset.Gateset:\n",
      " |  \n",
      " |  __dict__\n",
      " |      dictionary for instance variables (if defined)\n",
      " |  \n",
      " |  __weakref__\n",
      " |      list of weak references to the object (if defined)\n",
      "\n"
     ]
    }
   ],
   "source": [
    "help(cirq.CZTargetGateset)"
   ]
  },
  {
   "cell_type": "code",
   "execution_count": 4,
   "id": "68649df8-2fc8-48b9-a187-e233b128b5e8",
   "metadata": {},
   "outputs": [
    {
     "name": "stdout",
     "output_type": "stream",
     "text": [
      "Original Circuit:\n",
      "(0, 0): ───H───@───Y^0.5───M('m')───\n",
      "               │           │\n",
      "(0, 1): ───────X───────────M────────\n",
      "\n",
      "Transpiled Circuit:\n",
      "(0, 0): ───H───@───Y^0.5───M('m')───\n",
      "               │           │\n",
      "(0, 1): ───────X───────────M────────\n"
     ]
    }
   ],
   "source": [
    "import cirq\n",
    "\n",
    "# Step 1: Create a quantum circuit\n",
    "qubits = [cirq.GridQubit(0, 0), cirq.GridQubit(0, 1)]\n",
    "circuit = cirq.Circuit(\n",
    "    cirq.H(qubits[0]),\n",
    "    cirq.CNOT(qubits[0], qubits[1]),\n",
    "    cirq.Y(qubits[0])**0.5,\n",
    "    cirq.measure(*qubits, key='m')\n",
    ")\n",
    "\n",
    "# Step 2: Decompose the circuit to the desired basis set\n",
    "def decompose_to_basis(circuit, basis_gates):\n",
    "    decomposed_circuit = cirq.Circuit()\n",
    "    for op in circuit.all_operations():\n",
    "        try:\n",
    "            decomposed_op = cirq.decompose(op, keep=lambda g: g in basis_gates)\n",
    "            decomposed_circuit.append(decomposed_op)\n",
    "        except ValueError:\n",
    "            # If decomposition fails, you can either approximate or skip\n",
    "            decomposed_circuit.append(op)\n",
    "    return decomposed_circuit\n",
    "\n",
    "# Define your desired basis gates\n",
    "basis_gates = [cirq.rx, cirq.ry, cirq.rz, cirq.CX]\n",
    "\n",
    "# Transpile the circuit\n",
    "transpiled_circuit = decompose_to_basis(circuit, basis_gates)\n",
    "\n",
    "# Step 3: Print the transpiled circuit\n",
    "print(\"Original Circuit:\")\n",
    "print(circuit)\n",
    "\n",
    "print(\"\\nTranspiled Circuit:\")\n",
    "print(transpiled_circuit)\n"
   ]
  },
  {
   "cell_type": "code",
   "execution_count": 5,
   "id": "c5cf3086-cbc9-47ed-9d2f-f629d5ca26e7",
   "metadata": {},
   "outputs": [
    {
     "name": "stdout",
     "output_type": "stream",
     "text": [
      "Original Circuit:\n",
      "(0, 0): ───H───@───Y^0.5───M('m')───\n",
      "               │           │\n",
      "(0, 1): ───────X───────────M────────\n",
      "\n",
      "Transpiled Circuit:\n",
      "(0, 0): ───Rx(π)───Ry(0.5π)───@───Y^0.5───M('m')───\n",
      "                              │           │\n",
      "(0, 1): ──────────────────────X───────────M────────\n"
     ]
    }
   ],
   "source": [
    "import cirq\n",
    "import numpy as np\n",
    "\n",
    "# Step 1: Create a quantum circuit\n",
    "qubits = [cirq.GridQubit(0, 0), cirq.GridQubit(0, 1)]\n",
    "circuit = cirq.Circuit(\n",
    "    cirq.H(qubits[0]),\n",
    "    cirq.CNOT(qubits[0], qubits[1]),\n",
    "    cirq.Y(qubits[0])**0.5,\n",
    "    cirq.measure(*qubits, key='m')\n",
    ")\n",
    "\n",
    "# Function to manually decompose Hadamard and other gates to the desired basis\n",
    "def custom_decompose(op):\n",
    "    if isinstance(op.gate, cirq.HPowGate):\n",
    "        qubit = op.qubits[0]\n",
    "        return [\n",
    "            cirq.rx(np.pi).on(qubit),\n",
    "            cirq.ry(np.pi / 2).on(qubit)\n",
    "        ]\n",
    "    return [op]\n",
    "\n",
    "# Step 2: Decompose the circuit to the desired basis set\n",
    "def decompose_to_basis(circuit, basis_gates):\n",
    "    decomposed_circuit = cirq.Circuit()\n",
    "    for op in circuit.all_operations():\n",
    "        try:\n",
    "            decomposed_op = cirq.decompose(op, keep=lambda g: g in basis_gates)\n",
    "            decomposed_circuit.append(decomposed_op)\n",
    "        except ValueError:\n",
    "            # Attempt to manually decompose known gates like Hadamard\n",
    "            manually_decomposed = custom_decompose(op)\n",
    "            decomposed_circuit.append(manually_decomposed)\n",
    "    return decomposed_circuit\n",
    "\n",
    "# Define your desired basis gates\n",
    "basis_gates = [cirq.rx, cirq.ry, cirq.rz, cirq.CX]\n",
    "\n",
    "# Transpile the circuit\n",
    "transpiled_circuit = decompose_to_basis(circuit, basis_gates)\n",
    "\n",
    "# Step 3: Print the transpiled circuit\n",
    "print(\"Original Circuit:\")\n",
    "print(circuit)\n",
    "\n",
    "print(\"\\nTranspiled Circuit:\")\n",
    "print(transpiled_circuit)\n"
   ]
  },
  {
   "cell_type": "code",
   "execution_count": 12,
   "id": "be3418e0-b6cc-4d51-8eae-b929ee2044b9",
   "metadata": {},
   "outputs": [
    {
     "name": "stdout",
     "output_type": "stream",
     "text": [
      "Help on function transformer in module cirq.transformers.transformer_api:\n",
      "\n",
      "transformer(cls_or_func: Any = None, *, add_deep_support: bool = False) -> Any\n",
      "    Decorator to verify API and append logging functionality to transformer functions & classes.\n",
      "    \n",
      "    A transformer is a callable that takes as inputs a `cirq.AbstractCircuit` and\n",
      "    `cirq.TransformerContext`, and returns another `cirq.AbstractCircuit` without\n",
      "    modifying the input circuit. A transformer could be a function, for example:\n",
      "    \n",
      "    >>> @cirq.transformer\n",
      "    ... def convert_to_cz(\n",
      "    ...    circuit: cirq.AbstractCircuit, *, context: 'Optional[cirq.TransformerContext]' = None\n",
      "    ... ) -> cirq.Circuit:\n",
      "    ...    ...\n",
      "    \n",
      "    Or it could be a class that implements `__call__` with the same API, for example:\n",
      "    \n",
      "    >>> @cirq.transformer\n",
      "    ... class ConvertToSqrtISwaps:\n",
      "    ...    def __init__(self):\n",
      "    ...        ...\n",
      "    ...    def __call__(\n",
      "    ...        self,\n",
      "    ...        circuit: cirq.AbstractCircuit,\n",
      "    ...        *,\n",
      "    ...        context: 'Optional[cirq.TransformerContext]' = None,\n",
      "    ...    ) -> cirq.Circuit:\n",
      "    ...        ...\n",
      "    \n",
      "    Note that transformers which take additional parameters as `**kwargs`, with default values\n",
      "    specified for each keyword argument, are also supported. For example:\n",
      "    \n",
      "    >>> @cirq.transformer\n",
      "    ... def convert_to_sqrt_iswap(\n",
      "    ...     circuit: cirq.AbstractCircuit,\n",
      "    ...     *,\n",
      "    ...     context: 'Optional[cirq.TransformerContext]' = None,\n",
      "    ...     atol: float = 1e-8,\n",
      "    ...     sqrt_iswap_gate: cirq.ISwapPowGate = cirq.SQRT_ISWAP_INV,\n",
      "    ...     cleanup_operations: bool = True,\n",
      "    ... ) -> cirq.Circuit:\n",
      "    ...     pass\n",
      "    \n",
      "    Args:\n",
      "        cls_or_func: The callable class or function to be decorated.\n",
      "        add_deep_support: If True, the decorator adds the logic to first apply the\n",
      "            decorated transformer on subcircuits wrapped inside `cirq.CircuitOperation`s\n",
      "            before applying it on the top-level circuit, if context.deep is True.\n",
      "    \n",
      "    Returns:\n",
      "        Decorated class / function which includes additional logging boilerplate.\n",
      "\n"
     ]
    }
   ],
   "source": [
    "help(cirq.transformer)"
   ]
  },
  {
   "cell_type": "code",
   "execution_count": 11,
   "id": "f966ab85-c79e-4be5-9a29-596345232999",
   "metadata": {},
   "outputs": [
    {
     "name": "stdout",
     "output_type": "stream",
     "text": [
      "[(cirq.Y**0.5).on(cirq.GridQubit(0, 0)), cirq.XPowGate(global_shift=-0.25).on(cirq.GridQubit(0, 0)), (cirq.Y**-0.5).on(cirq.GridQubit(0, 1)), cirq.CZ(cirq.GridQubit(0, 0), cirq.GridQubit(0, 1)), (cirq.Y**0.5).on(cirq.GridQubit(0, 1)), (cirq.Y**0.5).on(cirq.GridQubit(0, 0)), cirq.measure(cirq.GridQubit(0, 0), cirq.GridQubit(0, 1), key=cirq.MeasurementKey(name='m'))]\n"
     ]
    }
   ],
   "source": [
    "print(qc)"
   ]
  },
  {
   "cell_type": "code",
   "execution_count": 17,
   "id": "e6609260-204f-4e1b-99cf-14a5a7598a64",
   "metadata": {},
   "outputs": [
    {
     "name": "stdout",
     "output_type": "stream",
     "text": [
      "Help on function create_transformer_with_kwargs in module cirq.transformers.target_gatesets.compilation_target_gateset:\n",
      "\n",
      "create_transformer_with_kwargs(transformer: 'cirq.TRANSFORMER', **kwargs) -> 'cirq.TRANSFORMER'\n",
      "    Method to capture additional keyword arguments to transformers while preserving mypy type.\n",
      "    \n",
      "    Returns a `cirq.TRANSFORMER` which, when called with a circuit and transformer context, is\n",
      "    equivalent to calling `transformer(circuit, context=context, **kwargs)`. It is often useful to\n",
      "    capture keyword arguments of a transformer before passing them as an argument to an API that\n",
      "    expects `cirq.TRANSFORMER`. For example:\n",
      "    \n",
      "    >>> def run_transformers(transformers: 'List[cirq.TRANSFORMER]'):\n",
      "    ...     circuit = cirq.Circuit(cirq.X(cirq.q(0)))\n",
      "    ...     context = cirq.TransformerContext()\n",
      "    ...     for transformer in transformers:\n",
      "    ...         transformer(circuit, context=context)\n",
      "    ...\n",
      "    >>> transformers: 'List[cirq.TRANSFORMER]' = []\n",
      "    >>> transformers.append(\n",
      "    ...     cirq.create_transformer_with_kwargs(\n",
      "    ...         cirq.expand_composite, no_decomp=lambda op: cirq.num_qubits(op) <= 2\n",
      "    ...     )\n",
      "    ... )\n",
      "    >>> transformers.append(cirq.create_transformer_with_kwargs(cirq.merge_k_qubit_unitaries, k=2))\n",
      "    >>> run_transformers(transformers)\n",
      "    \n",
      "    \n",
      "    Args:\n",
      "         transformer: A `cirq.TRANSFORMER` for which additional kwargs should be captured.\n",
      "         **kwargs: The keyword arguments which should be captured and passed to `transformer`.\n",
      "    \n",
      "    Returns:\n",
      "        A `cirq.TRANSFORMER` method `transformer_with_kwargs`, s.t. executing\n",
      "        `transformer_with_kwargs(circuit, context=context)` is equivalent to executing\n",
      "        `transformer(circuit, context=context, **kwargs)`.\n",
      "    \n",
      "    Raises:\n",
      "        SyntaxError: if **kwargs contain a 'context'.\n",
      "\n"
     ]
    }
   ],
   "source": [
    "help(cirq.create_transformer_with_kwargs)\n"
   ]
  },
  {
   "cell_type": "code",
   "execution_count": 21,
   "id": "d7251350-ccdc-43eb-82b4-f6955916b47d",
   "metadata": {},
   "outputs": [],
   "source": [
    "from cirq import transformers\n"
   ]
  },
  {
   "cell_type": "code",
   "execution_count": 23,
   "id": "4cfd227a-24df-48c2-8d13-807bd147bf44",
   "metadata": {},
   "outputs": [
    {
     "name": "stdout",
     "output_type": "stream",
     "text": [
      "Help on function optimize_for_target_gateset in module cirq.transformers.optimize_for_target_gateset:\n",
      "\n",
      "optimize_for_target_gateset(circuit: 'cirq.AbstractCircuit', *, context: Optional[ForwardRef('cirq.TransformerContext')] = None, gateset: Optional[ForwardRef('cirq.CompilationTargetGateset')] = None, ignore_failures: bool = True, max_num_passes: Optional[int] = 1) -> 'cirq.Circuit'\n",
      "    Transforms the given circuit into an equivalent circuit using gates accepted by `gateset`.\n",
      "    \n",
      "    Repeat max_num_passes times or when `max_num_passes=None` until no further changes can be done\n",
      "    1. Run all `gateset.preprocess_transformers`\n",
      "    2. Convert operations using built-in cirq decompose + `gateset.decompose_to_target_gateset`.\n",
      "    3. Run all `gateset.postprocess_transformers`\n",
      "    \n",
      "    Note:\n",
      "        The optimizer is a heuristic and may not produce optimal results even with\n",
      "        max_num_passes=None. The preprocessors and postprocessors of the gate set\n",
      "        as well as their order yield different results.\n",
      "    \n",
      "    \n",
      "    Args:\n",
      "        circuit: Input circuit to transform. It will not be modified.\n",
      "        context: `cirq.TransformerContext` storing common configurable options for transformers.\n",
      "        gateset: Target gateset, which should be an instance of `cirq.CompilationTargetGateset`.\n",
      "        ignore_failures: If set, operations that fail to convert are left unchanged. If not set,\n",
      "            conversion failures raise a ValueError.\n",
      "        max_num_passes: The maximum number of passes to do. A value of `None` means to keep\n",
      "            iterating until no more changes happen to the number of moments or operations.\n",
      "    \n",
      "    Returns:\n",
      "        An equivalent circuit containing gates accepted by `gateset`.\n",
      "    \n",
      "    Raises:\n",
      "        ValueError: If any input operation fails to convert and `ignore_failures` is False.\n",
      "\n"
     ]
    }
   ],
   "source": [
    "help(cirq.optimize_for_target_gateset)"
   ]
  },
  {
   "cell_type": "code",
   "execution_count": 50,
   "id": "1306e550-a1a8-4cdd-9214-adc6cfc64347",
   "metadata": {},
   "outputs": [
    {
     "ename": "AttributeError",
     "evalue": "'Gateset' object has no attribute 'preprocess_transformers'",
     "output_type": "error",
     "traceback": [
      "\u001b[0;31m---------------------------------------------------------------------------\u001b[0m",
      "\u001b[0;31mAttributeError\u001b[0m                            Traceback (most recent call last)",
      "Cell \u001b[0;32mIn[50], line 6\u001b[0m\n\u001b[1;32m      2\u001b[0m       \u001b[38;5;66;03m# Optional: Unroll composite gates like cirq.CircuitOperation\u001b[39;00m\n\u001b[1;32m      4\u001b[0m qc \u001b[38;5;241m=\u001b[39m cirq\u001b[38;5;241m.\u001b[39mtransformer\n\u001b[0;32m----> 6\u001b[0m qc \u001b[38;5;241m=\u001b[39m \u001b[43mcirq\u001b[49m\u001b[38;5;241;43m.\u001b[39;49m\u001b[43moptimize_for_target_gateset\u001b[49m\u001b[43m(\u001b[49m\u001b[43mcircuit\u001b[49m\u001b[43m,\u001b[49m\u001b[43m \u001b[49m\u001b[43mgateset\u001b[49m\u001b[38;5;241;43m=\u001b[39;49m\u001b[43mgateset\u001b[49m\u001b[43m)\u001b[49m\n",
      "File \u001b[0;32m~/anaconda3/envs/cirq/lib/python3.10/site-packages/cirq/transformers/transformer_api.py:379\u001b[0m, in \u001b[0;36mtransformer.<locals>.func_with_logging\u001b[0;34m(circuit, **kwargs)\u001b[0m\n\u001b[1;32m    377\u001b[0m \u001b[38;5;129m@functools\u001b[39m\u001b[38;5;241m.\u001b[39mwraps(func)\n\u001b[1;32m    378\u001b[0m \u001b[38;5;28;01mdef\u001b[39;00m \u001b[38;5;21mfunc_with_logging\u001b[39m(circuit: \u001b[38;5;124m'\u001b[39m\u001b[38;5;124mcirq.AbstractCircuit\u001b[39m\u001b[38;5;124m'\u001b[39m, \u001b[38;5;241m*\u001b[39m\u001b[38;5;241m*\u001b[39mkwargs) \u001b[38;5;241m-\u001b[39m\u001b[38;5;241m>\u001b[39m \u001b[38;5;124m'\u001b[39m\u001b[38;5;124mcirq.AbstractCircuit\u001b[39m\u001b[38;5;124m'\u001b[39m:\n\u001b[0;32m--> 379\u001b[0m     \u001b[38;5;28;01mreturn\u001b[39;00m \u001b[43m_transform_and_log\u001b[49m\u001b[43m(\u001b[49m\n\u001b[1;32m    380\u001b[0m \u001b[43m        \u001b[49m\u001b[43madd_deep_support\u001b[49m\u001b[43m,\u001b[49m\n\u001b[1;32m    381\u001b[0m \u001b[43m        \u001b[49m\u001b[43mfunc\u001b[49m\u001b[43m,\u001b[49m\n\u001b[1;32m    382\u001b[0m \u001b[43m        \u001b[49m\u001b[43mfunc\u001b[49m\u001b[38;5;241;43m.\u001b[39;49m\u001b[38;5;18;43m__name__\u001b[39;49m\u001b[43m,\u001b[49m\n\u001b[1;32m    383\u001b[0m \u001b[43m        \u001b[49m\u001b[43mcircuit\u001b[49m\u001b[43m,\u001b[49m\n\u001b[1;32m    384\u001b[0m \u001b[43m        \u001b[49m\u001b[43mkwargs\u001b[49m\u001b[38;5;241;43m.\u001b[39;49m\u001b[43mget\u001b[49m\u001b[43m(\u001b[49m\u001b[38;5;124;43m'\u001b[39;49m\u001b[38;5;124;43mcontext\u001b[39;49m\u001b[38;5;124;43m'\u001b[39;49m\u001b[43m,\u001b[49m\u001b[43m \u001b[49m\u001b[43mdefault_context\u001b[49m\u001b[43m)\u001b[49m\u001b[43m,\u001b[49m\n\u001b[1;32m    385\u001b[0m \u001b[43m        \u001b[49m\u001b[38;5;241;43m*\u001b[39;49m\u001b[38;5;241;43m*\u001b[39;49m\u001b[43mkwargs\u001b[49m\u001b[43m,\u001b[49m\n\u001b[1;32m    386\u001b[0m \u001b[43m    \u001b[49m\u001b[43m)\u001b[49m\n",
      "File \u001b[0;32m~/anaconda3/envs/cirq/lib/python3.10/site-packages/cirq/transformers/transformer_api.py:438\u001b[0m, in \u001b[0;36m_transform_and_log\u001b[0;34m(add_deep_support, func, transformer_name, circuit, extracted_context, **kwargs)\u001b[0m\n\u001b[1;32m    436\u001b[0m \u001b[38;5;28;01mif\u001b[39;00m extracted_context:\n\u001b[1;32m    437\u001b[0m     extracted_context\u001b[38;5;241m.\u001b[39mlogger\u001b[38;5;241m.\u001b[39mregister_initial(circuit, transformer_name)\n\u001b[0;32m--> 438\u001b[0m transformed_circuit \u001b[38;5;241m=\u001b[39m \u001b[43m_run_transformer_on_circuit\u001b[49m\u001b[43m(\u001b[49m\n\u001b[1;32m    439\u001b[0m \u001b[43m    \u001b[49m\u001b[43madd_deep_support\u001b[49m\u001b[43m,\u001b[49m\u001b[43m \u001b[49m\u001b[43mfunc\u001b[49m\u001b[43m,\u001b[49m\u001b[43m \u001b[49m\u001b[43mcircuit\u001b[49m\u001b[43m,\u001b[49m\u001b[43m \u001b[49m\u001b[43mextracted_context\u001b[49m\u001b[43m,\u001b[49m\u001b[43m \u001b[49m\u001b[38;5;241;43m*\u001b[39;49m\u001b[38;5;241;43m*\u001b[39;49m\u001b[43mkwargs\u001b[49m\n\u001b[1;32m    440\u001b[0m \u001b[43m\u001b[49m\u001b[43m)\u001b[49m\n\u001b[1;32m    441\u001b[0m \u001b[38;5;28;01mif\u001b[39;00m extracted_context:\n\u001b[1;32m    442\u001b[0m     extracted_context\u001b[38;5;241m.\u001b[39mlogger\u001b[38;5;241m.\u001b[39mregister_final(transformed_circuit, transformer_name)\n",
      "File \u001b[0;32m~/anaconda3/envs/cirq/lib/python3.10/site-packages/cirq/transformers/transformer_api.py:424\u001b[0m, in \u001b[0;36m_run_transformer_on_circuit\u001b[0;34m(add_deep_support, func, circuit, extracted_context, **kwargs)\u001b[0m\n\u001b[1;32m    422\u001b[0m     mutable_circuit \u001b[38;5;241m=\u001b[39m circuit\u001b[38;5;241m.\u001b[39munfreeze(copy\u001b[38;5;241m=\u001b[39m\u001b[38;5;28;01mTrue\u001b[39;00m)\n\u001b[1;32m    423\u001b[0m     mutable_circuit\u001b[38;5;241m.\u001b[39mbatch_replace(batch_replace)\n\u001b[0;32m--> 424\u001b[0m \u001b[38;5;28;01mreturn\u001b[39;00m \u001b[43mfunc\u001b[49m\u001b[43m(\u001b[49m\u001b[43mmutable_circuit\u001b[49m\u001b[43m \u001b[49m\u001b[38;5;28;43;01mif\u001b[39;49;00m\u001b[43m \u001b[49m\u001b[43mmutable_circuit\u001b[49m\u001b[43m \u001b[49m\u001b[38;5;28;43;01melse\u001b[39;49;00m\u001b[43m \u001b[49m\u001b[43mcircuit\u001b[49m\u001b[43m,\u001b[49m\u001b[43m \u001b[49m\u001b[38;5;241;43m*\u001b[39;49m\u001b[38;5;241;43m*\u001b[39;49m\u001b[43mkwargs\u001b[49m\u001b[43m)\u001b[49m\n",
      "File \u001b[0;32m~/anaconda3/envs/cirq/lib/python3.10/site-packages/cirq/transformers/optimize_for_target_gateset.py:149\u001b[0m, in \u001b[0;36moptimize_for_target_gateset\u001b[0;34m(circuit, context, gateset, ignore_failures, max_num_passes)\u001b[0m\n\u001b[1;32m    147\u001b[0m initial_num_moments, initial_num_ops \u001b[38;5;241m=\u001b[39m \u001b[38;5;28mlen\u001b[39m(circuit), \u001b[38;5;28msum\u001b[39m(\u001b[38;5;241m1\u001b[39m \u001b[38;5;28;01mfor\u001b[39;00m _ \u001b[38;5;129;01min\u001b[39;00m circuit\u001b[38;5;241m.\u001b[39mall_operations())\n\u001b[1;32m    148\u001b[0m \u001b[38;5;28;01mfor\u001b[39;00m _ \u001b[38;5;129;01min\u001b[39;00m _outerloop():\n\u001b[0;32m--> 149\u001b[0m     \u001b[38;5;28;01mfor\u001b[39;00m transformer \u001b[38;5;129;01min\u001b[39;00m \u001b[43mgateset\u001b[49m\u001b[38;5;241;43m.\u001b[39;49m\u001b[43mpreprocess_transformers\u001b[49m:\n\u001b[1;32m    150\u001b[0m         circuit \u001b[38;5;241m=\u001b[39m transformer(circuit, context\u001b[38;5;241m=\u001b[39mcontext)\n\u001b[1;32m    151\u001b[0m     circuit \u001b[38;5;241m=\u001b[39m _decompose_operations_to_target_gateset(\n\u001b[1;32m    152\u001b[0m         circuit,\n\u001b[1;32m    153\u001b[0m         context\u001b[38;5;241m=\u001b[39mcontext,\n\u001b[0;32m   (...)\u001b[0m\n\u001b[1;32m    157\u001b[0m         tags_to_decompose\u001b[38;5;241m=\u001b[39m(gateset\u001b[38;5;241m.\u001b[39m_intermediate_result_tag,),\n\u001b[1;32m    158\u001b[0m     )\n",
      "\u001b[0;31mAttributeError\u001b[0m: 'Gateset' object has no attribute 'preprocess_transformers'"
     ]
    }
   ],
   "source": [
    "gateset = cirq.Gateset(cirq.ops.common_gates.Rx, cirq.ops.common_gates.Ry, cirq.ops.common_gates.Rz, cirq.CNOT,unroll_circuit_op=True)\n",
    "      # Optional: Unroll composite gates like cirq.CircuitOperation\n",
    "\n",
    "qc = cirq.transformer\n",
    "\n",
    "qc = cirq.optimize_for_target_gateset(circuit, gateset=gateset)"
   ]
  },
  {
   "cell_type": "code",
   "execution_count": 44,
   "id": "c75a8902-e0fb-4fd7-a887-41720e3d0dd8",
   "metadata": {},
   "outputs": [
    {
     "data": {
      "text/plain": [
       "cirq.CNOT"
      ]
     },
     "execution_count": 44,
     "metadata": {},
     "output_type": "execute_result"
    }
   ],
   "source": [
    "cirq.CX"
   ]
  },
  {
   "cell_type": "code",
   "execution_count": 49,
   "id": "277c0e89-ae16-472c-938c-6151736258bd",
   "metadata": {},
   "outputs": [
    {
     "data": {
      "text/plain": [
       "<property at 0x7faa405becf0>"
      ]
     },
     "execution_count": 49,
     "metadata": {},
     "output_type": "execute_result"
    }
   ],
   "source": [
    "cirq.Gateset.name"
   ]
  },
  {
   "cell_type": "code",
   "execution_count": 53,
   "id": "37f67e22-0225-438c-bcd9-055158126cb1",
   "metadata": {},
   "outputs": [
    {
     "ename": "TypeError",
     "evalue": "Can't instantiate abstract class CompilationTargetGateset with abstract methods decompose_to_target_gateset, num_qubits",
     "output_type": "error",
     "traceback": [
      "\u001b[0;31m---------------------------------------------------------------------------\u001b[0m",
      "\u001b[0;31mTypeError\u001b[0m                                 Traceback (most recent call last)",
      "Cell \u001b[0;32mIn[53], line 1\u001b[0m\n\u001b[0;32m----> 1\u001b[0m x\u001b[38;5;241m=\u001b[39m\u001b[43mcirq\u001b[49m\u001b[38;5;241;43m.\u001b[39;49m\u001b[43mCompilationTargetGateset\u001b[49m\u001b[43m(\u001b[49m\u001b[43m[\u001b[49m\u001b[43mcirq\u001b[49m\u001b[38;5;241;43m.\u001b[39;49m\u001b[43mops\u001b[49m\u001b[38;5;241;43m.\u001b[39;49m\u001b[43mcommon_gates\u001b[49m\u001b[38;5;241;43m.\u001b[39;49m\u001b[43mRx\u001b[49m\u001b[43m,\u001b[49m\u001b[43m \u001b[49m\u001b[43mcirq\u001b[49m\u001b[38;5;241;43m.\u001b[39;49m\u001b[43mops\u001b[49m\u001b[38;5;241;43m.\u001b[39;49m\u001b[43mcommon_gates\u001b[49m\u001b[38;5;241;43m.\u001b[39;49m\u001b[43mRy\u001b[49m\u001b[43m,\u001b[49m\u001b[43m \u001b[49m\u001b[43mcirq\u001b[49m\u001b[38;5;241;43m.\u001b[39;49m\u001b[43mops\u001b[49m\u001b[38;5;241;43m.\u001b[39;49m\u001b[43mcommon_gates\u001b[49m\u001b[38;5;241;43m.\u001b[39;49m\u001b[43mRz\u001b[49m\u001b[43m,\u001b[49m\u001b[43m \u001b[49m\u001b[43mcirq\u001b[49m\u001b[38;5;241;43m.\u001b[39;49m\u001b[43mCNOT\u001b[49m\u001b[43m]\u001b[49m\u001b[43m,\u001b[49m\n\u001b[1;32m      2\u001b[0m \u001b[43m                              \u001b[49m\u001b[43mname\u001b[49m\u001b[38;5;241;43m=\u001b[39;49m\u001b[38;5;124;43m\"\u001b[39;49m\u001b[38;5;124;43mHardware Agnostic\u001b[39;49m\u001b[38;5;124;43m\"\u001b[39;49m\u001b[43m,\u001b[49m\n\u001b[1;32m      3\u001b[0m \u001b[43m                              \u001b[49m\u001b[43munroll_circuit_op\u001b[49m\u001b[38;5;241;43m=\u001b[39;49m\u001b[38;5;28;43;01mTrue\u001b[39;49;00m\u001b[43m,\u001b[49m\n\u001b[1;32m      4\u001b[0m \u001b[43m                              \u001b[49m\u001b[43mpreserve_moment_structure\u001b[49m\u001b[38;5;241;43m=\u001b[39;49m\u001b[38;5;28;43;01mTrue\u001b[39;49;00m\u001b[43m)\u001b[49m\n",
      "\u001b[0;31mTypeError\u001b[0m: Can't instantiate abstract class CompilationTargetGateset with abstract methods decompose_to_target_gateset, num_qubits"
     ]
    }
   ],
   "source": [
    "x=cirq.CompilationTargetGateset([cirq.ops.common_gates.Rx, cirq.ops.common_gates.Ry, cirq.ops.common_gates.Rz, cirq.CNOT],\n",
    "                              name=\"Hardware Agnostic\",\n",
    "                              unroll_circuit_op=True,\n",
    "                              preserve_moment_structure=True)"
   ]
  },
  {
   "cell_type": "code",
   "execution_count": 65,
   "id": "7259b4dc-5c3b-46c5-b99d-5794d491dc76",
   "metadata": {},
   "outputs": [
    {
     "ename": "AttributeError",
     "evalue": "'list' object has no attribute 'preprocess_transformers'",
     "output_type": "error",
     "traceback": [
      "\u001b[0;31m---------------------------------------------------------------------------\u001b[0m",
      "\u001b[0;31mAttributeError\u001b[0m                            Traceback (most recent call last)",
      "Cell \u001b[0;32mIn[65], line 2\u001b[0m\n\u001b[1;32m      1\u001b[0m \u001b[38;5;66;03m# Apply the default optimization pass\u001b[39;00m\n\u001b[0;32m----> 2\u001b[0m optimized_circuit \u001b[38;5;241m=\u001b[39m \u001b[43mcirq\u001b[49m\u001b[38;5;241;43m.\u001b[39;49m\u001b[43moptimize_for_target_gateset\u001b[49m\u001b[43m(\u001b[49m\n\u001b[1;32m      3\u001b[0m \u001b[43m    \u001b[49m\u001b[43mcircuit\u001b[49m\u001b[43m,\u001b[49m\n\u001b[1;32m      4\u001b[0m \u001b[43m    \u001b[49m\u001b[43mgateset\u001b[49m\u001b[38;5;241;43m=\u001b[39;49m\u001b[43m[\u001b[49m\u001b[43mcirq\u001b[49m\u001b[38;5;241;43m.\u001b[39;49m\u001b[43mops\u001b[49m\u001b[38;5;241;43m.\u001b[39;49m\u001b[43mcommon_gates\u001b[49m\u001b[38;5;241;43m.\u001b[39;49m\u001b[43mRx\u001b[49m\u001b[43m,\u001b[49m\u001b[43m \u001b[49m\u001b[43mcirq\u001b[49m\u001b[38;5;241;43m.\u001b[39;49m\u001b[43mops\u001b[49m\u001b[38;5;241;43m.\u001b[39;49m\u001b[43mcommon_gates\u001b[49m\u001b[38;5;241;43m.\u001b[39;49m\u001b[43mRy\u001b[49m\u001b[43m,\u001b[49m\u001b[43m \u001b[49m\u001b[43mcirq\u001b[49m\u001b[38;5;241;43m.\u001b[39;49m\u001b[43mops\u001b[49m\u001b[38;5;241;43m.\u001b[39;49m\u001b[43mcommon_gates\u001b[49m\u001b[38;5;241;43m.\u001b[39;49m\u001b[43mRz\u001b[49m\u001b[43m,\u001b[49m\u001b[43m \u001b[49m\u001b[43mcirq\u001b[49m\u001b[38;5;241;43m.\u001b[39;49m\u001b[43mCNOT\u001b[49m\u001b[43m]\u001b[49m\n\u001b[1;32m      5\u001b[0m \u001b[43m)\u001b[49m\n",
      "File \u001b[0;32m~/anaconda3/envs/cirq/lib/python3.10/site-packages/cirq/transformers/transformer_api.py:379\u001b[0m, in \u001b[0;36mtransformer.<locals>.func_with_logging\u001b[0;34m(circuit, **kwargs)\u001b[0m\n\u001b[1;32m    377\u001b[0m \u001b[38;5;129m@functools\u001b[39m\u001b[38;5;241m.\u001b[39mwraps(func)\n\u001b[1;32m    378\u001b[0m \u001b[38;5;28;01mdef\u001b[39;00m \u001b[38;5;21mfunc_with_logging\u001b[39m(circuit: \u001b[38;5;124m'\u001b[39m\u001b[38;5;124mcirq.AbstractCircuit\u001b[39m\u001b[38;5;124m'\u001b[39m, \u001b[38;5;241m*\u001b[39m\u001b[38;5;241m*\u001b[39mkwargs) \u001b[38;5;241m-\u001b[39m\u001b[38;5;241m>\u001b[39m \u001b[38;5;124m'\u001b[39m\u001b[38;5;124mcirq.AbstractCircuit\u001b[39m\u001b[38;5;124m'\u001b[39m:\n\u001b[0;32m--> 379\u001b[0m     \u001b[38;5;28;01mreturn\u001b[39;00m \u001b[43m_transform_and_log\u001b[49m\u001b[43m(\u001b[49m\n\u001b[1;32m    380\u001b[0m \u001b[43m        \u001b[49m\u001b[43madd_deep_support\u001b[49m\u001b[43m,\u001b[49m\n\u001b[1;32m    381\u001b[0m \u001b[43m        \u001b[49m\u001b[43mfunc\u001b[49m\u001b[43m,\u001b[49m\n\u001b[1;32m    382\u001b[0m \u001b[43m        \u001b[49m\u001b[43mfunc\u001b[49m\u001b[38;5;241;43m.\u001b[39;49m\u001b[38;5;18;43m__name__\u001b[39;49m\u001b[43m,\u001b[49m\n\u001b[1;32m    383\u001b[0m \u001b[43m        \u001b[49m\u001b[43mcircuit\u001b[49m\u001b[43m,\u001b[49m\n\u001b[1;32m    384\u001b[0m \u001b[43m        \u001b[49m\u001b[43mkwargs\u001b[49m\u001b[38;5;241;43m.\u001b[39;49m\u001b[43mget\u001b[49m\u001b[43m(\u001b[49m\u001b[38;5;124;43m'\u001b[39;49m\u001b[38;5;124;43mcontext\u001b[39;49m\u001b[38;5;124;43m'\u001b[39;49m\u001b[43m,\u001b[49m\u001b[43m \u001b[49m\u001b[43mdefault_context\u001b[49m\u001b[43m)\u001b[49m\u001b[43m,\u001b[49m\n\u001b[1;32m    385\u001b[0m \u001b[43m        \u001b[49m\u001b[38;5;241;43m*\u001b[39;49m\u001b[38;5;241;43m*\u001b[39;49m\u001b[43mkwargs\u001b[49m\u001b[43m,\u001b[49m\n\u001b[1;32m    386\u001b[0m \u001b[43m    \u001b[49m\u001b[43m)\u001b[49m\n",
      "File \u001b[0;32m~/anaconda3/envs/cirq/lib/python3.10/site-packages/cirq/transformers/transformer_api.py:438\u001b[0m, in \u001b[0;36m_transform_and_log\u001b[0;34m(add_deep_support, func, transformer_name, circuit, extracted_context, **kwargs)\u001b[0m\n\u001b[1;32m    436\u001b[0m \u001b[38;5;28;01mif\u001b[39;00m extracted_context:\n\u001b[1;32m    437\u001b[0m     extracted_context\u001b[38;5;241m.\u001b[39mlogger\u001b[38;5;241m.\u001b[39mregister_initial(circuit, transformer_name)\n\u001b[0;32m--> 438\u001b[0m transformed_circuit \u001b[38;5;241m=\u001b[39m \u001b[43m_run_transformer_on_circuit\u001b[49m\u001b[43m(\u001b[49m\n\u001b[1;32m    439\u001b[0m \u001b[43m    \u001b[49m\u001b[43madd_deep_support\u001b[49m\u001b[43m,\u001b[49m\u001b[43m \u001b[49m\u001b[43mfunc\u001b[49m\u001b[43m,\u001b[49m\u001b[43m \u001b[49m\u001b[43mcircuit\u001b[49m\u001b[43m,\u001b[49m\u001b[43m \u001b[49m\u001b[43mextracted_context\u001b[49m\u001b[43m,\u001b[49m\u001b[43m \u001b[49m\u001b[38;5;241;43m*\u001b[39;49m\u001b[38;5;241;43m*\u001b[39;49m\u001b[43mkwargs\u001b[49m\n\u001b[1;32m    440\u001b[0m \u001b[43m\u001b[49m\u001b[43m)\u001b[49m\n\u001b[1;32m    441\u001b[0m \u001b[38;5;28;01mif\u001b[39;00m extracted_context:\n\u001b[1;32m    442\u001b[0m     extracted_context\u001b[38;5;241m.\u001b[39mlogger\u001b[38;5;241m.\u001b[39mregister_final(transformed_circuit, transformer_name)\n",
      "File \u001b[0;32m~/anaconda3/envs/cirq/lib/python3.10/site-packages/cirq/transformers/transformer_api.py:424\u001b[0m, in \u001b[0;36m_run_transformer_on_circuit\u001b[0;34m(add_deep_support, func, circuit, extracted_context, **kwargs)\u001b[0m\n\u001b[1;32m    422\u001b[0m     mutable_circuit \u001b[38;5;241m=\u001b[39m circuit\u001b[38;5;241m.\u001b[39munfreeze(copy\u001b[38;5;241m=\u001b[39m\u001b[38;5;28;01mTrue\u001b[39;00m)\n\u001b[1;32m    423\u001b[0m     mutable_circuit\u001b[38;5;241m.\u001b[39mbatch_replace(batch_replace)\n\u001b[0;32m--> 424\u001b[0m \u001b[38;5;28;01mreturn\u001b[39;00m \u001b[43mfunc\u001b[49m\u001b[43m(\u001b[49m\u001b[43mmutable_circuit\u001b[49m\u001b[43m \u001b[49m\u001b[38;5;28;43;01mif\u001b[39;49;00m\u001b[43m \u001b[49m\u001b[43mmutable_circuit\u001b[49m\u001b[43m \u001b[49m\u001b[38;5;28;43;01melse\u001b[39;49;00m\u001b[43m \u001b[49m\u001b[43mcircuit\u001b[49m\u001b[43m,\u001b[49m\u001b[43m \u001b[49m\u001b[38;5;241;43m*\u001b[39;49m\u001b[38;5;241;43m*\u001b[39;49m\u001b[43mkwargs\u001b[49m\u001b[43m)\u001b[49m\n",
      "File \u001b[0;32m~/anaconda3/envs/cirq/lib/python3.10/site-packages/cirq/transformers/optimize_for_target_gateset.py:149\u001b[0m, in \u001b[0;36moptimize_for_target_gateset\u001b[0;34m(circuit, context, gateset, ignore_failures, max_num_passes)\u001b[0m\n\u001b[1;32m    147\u001b[0m initial_num_moments, initial_num_ops \u001b[38;5;241m=\u001b[39m \u001b[38;5;28mlen\u001b[39m(circuit), \u001b[38;5;28msum\u001b[39m(\u001b[38;5;241m1\u001b[39m \u001b[38;5;28;01mfor\u001b[39;00m _ \u001b[38;5;129;01min\u001b[39;00m circuit\u001b[38;5;241m.\u001b[39mall_operations())\n\u001b[1;32m    148\u001b[0m \u001b[38;5;28;01mfor\u001b[39;00m _ \u001b[38;5;129;01min\u001b[39;00m _outerloop():\n\u001b[0;32m--> 149\u001b[0m     \u001b[38;5;28;01mfor\u001b[39;00m transformer \u001b[38;5;129;01min\u001b[39;00m \u001b[43mgateset\u001b[49m\u001b[38;5;241;43m.\u001b[39;49m\u001b[43mpreprocess_transformers\u001b[49m:\n\u001b[1;32m    150\u001b[0m         circuit \u001b[38;5;241m=\u001b[39m transformer(circuit, context\u001b[38;5;241m=\u001b[39mcontext)\n\u001b[1;32m    151\u001b[0m     circuit \u001b[38;5;241m=\u001b[39m _decompose_operations_to_target_gateset(\n\u001b[1;32m    152\u001b[0m         circuit,\n\u001b[1;32m    153\u001b[0m         context\u001b[38;5;241m=\u001b[39mcontext,\n\u001b[0;32m   (...)\u001b[0m\n\u001b[1;32m    157\u001b[0m         tags_to_decompose\u001b[38;5;241m=\u001b[39m(gateset\u001b[38;5;241m.\u001b[39m_intermediate_result_tag,),\n\u001b[1;32m    158\u001b[0m     )\n",
      "\u001b[0;31mAttributeError\u001b[0m: 'list' object has no attribute 'preprocess_transformers'"
     ]
    }
   ],
   "source": [
    "# Apply the default optimization pass\n",
    "optimized_circuit = cirq.optimize_for_target_gateset(\n",
    "    circuit,\n",
    "    gateset=[cirq.ops.common_gates.Rx, cirq.ops.common_gates.Ry, cirq.ops.common_gates.Rz, cirq.CNOT]\n",
    ")"
   ]
  },
  {
   "cell_type": "code",
   "execution_count": 74,
   "id": "e3e402c9-2b06-47cb-9927-347374640a6a",
   "metadata": {},
   "outputs": [],
   "source": [
    "qc=circuit\n",
    "gateset = cirq.CZTargetGateset(allow_partial_czs=True)\n",
    "optimized_circuit = cirq.optimize_for_target_gateset(qc, gateset=gateset)"
   ]
  },
  {
   "cell_type": "code",
   "execution_count": 75,
   "id": "881bec32-fa11-46cf-ad08-0430db128bb5",
   "metadata": {},
   "outputs": [
    {
     "name": "stdout",
     "output_type": "stream",
     "text": [
      "(0, 0): ───H───@───Y^0.5───M('m')───\n",
      "               │           │\n",
      "(0, 1): ───────X───────────M────────\n"
     ]
    }
   ],
   "source": [
    "print(qc)"
   ]
  },
  {
   "cell_type": "code",
   "execution_count": 85,
   "id": "c2edcded-7902-4d9c-9750-49fbd2cf648a",
   "metadata": {},
   "outputs": [
    {
     "name": "stdout",
     "output_type": "stream",
     "text": [
      "Gateset: CZPowTargetGateset\n",
      "Type GateFamily: cirq.ops.common_gates.CZPowGate\n",
      "Accepts `cirq.Gate` instances `g` s.t. `isinstance(g, cirq.ops.common_gates.CZPowGate)`\n",
      "\n",
      "Type GateFamily: cirq.ops.measurement_gate.MeasurementGate\n",
      "Accepts `cirq.Gate` instances `g` s.t. `isinstance(g, cirq.ops.measurement_gate.MeasurementGate)`\n",
      "\n",
      "Type GateFamily: cirq.ops.phased_x_z_gate.PhasedXZGate\n",
      "Accepts `cirq.Gate` instances `g` s.t. `isinstance(g, cirq.ops.phased_x_z_gate.PhasedXZGate)`\n",
      "\n",
      "Type GateFamily: cirq.ops.global_phase_op.GlobalPhaseGate\n",
      "Accepts `cirq.Gate` instances `g` s.t. `isinstance(g, cirq.ops.global_phase_op.GlobalPhaseGate)`\n"
     ]
    }
   ],
   "source": [
    "print(gateset)"
   ]
  },
  {
   "cell_type": "code",
   "execution_count": 77,
   "id": "3391ebc6-d993-4a5f-92a8-fe588adaf479",
   "metadata": {},
   "outputs": [
    {
     "name": "stdout",
     "output_type": "stream",
     "text": [
      "(0, 0): ───PhXZ(a=0.5,x=0.5,z=0)────@───PhXZ(a=0.5,x=0.5,z=-1)────M('m')───\n",
      "                                    │                             │\n",
      "(0, 1): ───PhXZ(a=0.5,x=-0.5,z=0)───@───PhXZ(a=-0.5,x=0.5,z=-1)───M────────\n"
     ]
    }
   ],
   "source": [
    "print(optimized_circuit)"
   ]
  },
  {
   "cell_type": "code",
   "execution_count": 93,
   "id": "13ff5791-cebf-44d3-8310-c413907d5d58",
   "metadata": {},
   "outputs": [
    {
     "data": {
      "text/plain": [
       "frozenset({cirq.GridQubit(0, 0), cirq.GridQubit(0, 1)})"
      ]
     },
     "execution_count": 93,
     "metadata": {},
     "output_type": "execute_result"
    }
   ],
   "source": [
    "circuit.all_qubits()."
   ]
  },
  {
   "cell_type": "code",
   "execution_count": 94,
   "id": "1b8edcec-6b4a-4fc9-ac38-ca2342c8e3c2",
   "metadata": {},
   "outputs": [],
   "source": [
    "backend = cirq.CliffordSimulator()"
   ]
  },
  {
   "cell_type": "code",
   "execution_count": 100,
   "id": "8db85e17-327b-4a62-a2ae-ee1758074933",
   "metadata": {},
   "outputs": [
    {
     "data": {
      "text/plain": [
       "cirq.NO_NOISE"
      ]
     },
     "execution_count": 100,
     "metadata": {},
     "output_type": "execute_result"
    }
   ],
   "source": [
    "cirq.CliffordSimulator().noise"
   ]
  },
  {
   "cell_type": "code",
   "execution_count": null,
   "id": "dc673f21-0584-472b-9056-66cdc61e3b48",
   "metadata": {},
   "outputs": [],
   "source": []
  }
 ],
 "metadata": {
  "kernelspec": {
   "display_name": "Python 3 (ipykernel)",
   "language": "python",
   "name": "python3"
  },
  "language_info": {
   "codemirror_mode": {
    "name": "ipython",
    "version": 3
   },
   "file_extension": ".py",
   "mimetype": "text/x-python",
   "name": "python",
   "nbconvert_exporter": "python",
   "pygments_lexer": "ipython3",
   "version": "3.10.14"
  }
 },
 "nbformat": 4,
 "nbformat_minor": 5
}
