{
 "cells": [
  {
   "cell_type": "code",
   "execution_count": 1,
   "id": "b9d451d0-bf6a-4d24-910d-b2e7b8ff477c",
   "metadata": {},
   "outputs": [],
   "source": [
    "import cirq"
   ]
  },
  {
   "cell_type": "code",
   "execution_count": 2,
   "id": "a1f2785b-399b-43e9-b86e-8710a7753ae1",
   "metadata": {},
   "outputs": [
    {
     "name": "stdout",
     "output_type": "stream",
     "text": [
      "Result with cirq.Simulator: measurements: result123=001\n",
      "\n",
      "qubits: (cirq.GridQubit(0, 0),)\n",
      "output vector: |0⟩\n",
      "\n",
      "qubits: (cirq.GridQubit(0, 1),)\n",
      "output vector: |0⟩\n",
      "\n",
      "qubits: (cirq.GridQubit(0, 2),)\n",
      "output vector: |1⟩\n",
      "\n",
      "phase:\n",
      "output vector: |⟩\n"
     ]
    }
   ],
   "source": [
    "# Create a simple circuit\n",
    "qubits = [cirq.GridQubit(0, i) for i in range(3)]\n",
    "\n",
    "# Create a circuit\n",
    "circuit = cirq.Circuit(\n",
    "    cirq.H(qubits[0]),                 # Apply Hadamard gate to qubit 0\n",
    "    cirq.CX(qubits[1], qubits[2]),     # Apply CNOT gate to qubits 0 and 1\n",
    "    cirq.X(qubits[2]),                 # Apply X gate to qubit 2\n",
    "    cirq.CX(qubits[1], qubits[0]),\n",
    "    cirq.measure(*qubits, key='result123')  # Measure all qubits\n",
    ")\n",
    "# General purpose quantum circuit simulator\n",
    "simulator = cirq.Simulator()\n",
    "\n",
    "# Simulate the circuit using the general purpose simulator\n",
    "result = simulator.simulate(circuit)\n",
    "print(\"Result with cirq.Simulator:\", result)\n"
   ]
  },
  {
   "cell_type": "code",
   "execution_count": 3,
   "id": "1d89971e-70c0-44cf-a18f-4993a35ae4ba",
   "metadata": {},
   "outputs": [
    {
     "name": "stdout",
     "output_type": "stream",
     "text": [
      "(0, 0): ───H───X───M('result123')───\n",
      "               │   │\n",
      "(0, 1): ───@───@───M────────────────\n",
      "           │       │\n",
      "(0, 2): ───X───X───M────────────────\n"
     ]
    }
   ],
   "source": [
    "print(circuit)"
   ]
  },
  {
   "cell_type": "code",
   "execution_count": 4,
   "id": "84054df8-8032-412f-a232-ea5e91e85927",
   "metadata": {},
   "outputs": [
    {
     "name": "stdout",
     "output_type": "stream",
     "text": [
      "3\n"
     ]
    }
   ],
   "source": [
    "depth = len(cirq.Circuit(circuit.all_operations()))\n",
    "print(depth)"
   ]
  },
  {
   "cell_type": "code",
   "execution_count": 5,
   "id": "f896379d-11da-4eb3-897f-066cbc014df8",
   "metadata": {},
   "outputs": [],
   "source": [
    "x=circuit.all_qubits()"
   ]
  },
  {
   "cell_type": "code",
   "execution_count": 6,
   "id": "c4294896-ae6b-4973-ac86-3b2c371e8961",
   "metadata": {},
   "outputs": [
    {
     "name": "stdout",
     "output_type": "stream",
     "text": [
      "frozenset({cirq.GridQubit(0, 1), cirq.GridQubit(0, 2), cirq.GridQubit(0, 0)})\n"
     ]
    }
   ],
   "source": [
    "print(x)"
   ]
  },
  {
   "cell_type": "code",
   "execution_count": 7,
   "id": "a1185867-b301-4546-a907-5f2a8110503e",
   "metadata": {},
   "outputs": [
    {
     "name": "stdout",
     "output_type": "stream",
     "text": [
      "<generator object AbstractCircuit.all_operations.<locals>.<genexpr> at 0x76a34b9a8a50>\n"
     ]
    }
   ],
   "source": [
    "x=circuit.all_operations()\n",
    "print(x)"
   ]
  },
  {
   "cell_type": "code",
   "execution_count": 8,
   "id": "822fe626-670c-4b8f-9fc4-4df0591f21e7",
   "metadata": {},
   "outputs": [
    {
     "name": "stdout",
     "output_type": "stream",
     "text": [
      "H\n",
      "H(q(0, 0))\n",
      "CNOT\n",
      "CNOT(q(0, 1), q(0, 2))\n",
      "X\n",
      "X(q(0, 2))\n",
      "CNOT\n",
      "CNOT(q(0, 1), q(0, 0))\n",
      "cirq.MeasurementGate(3, cirq.MeasurementKey(name='result123'), ())\n",
      "cirq.MeasurementGate(3, cirq.MeasurementKey(name='result123'), ())(q(0, 0), q(0, 1), q(0, 2))\n"
     ]
    }
   ],
   "source": [
    "a=dict()\n",
    "for i in x:\n",
    "    print(i.gate)\n",
    "    a[i.gate]=i.gate.num_qubits()\n",
    "    print(i)"
   ]
  },
  {
   "cell_type": "code",
   "execution_count": 9,
   "id": "3fb87740-1166-4651-8d10-13def0f50b28",
   "metadata": {},
   "outputs": [
    {
     "name": "stdout",
     "output_type": "stream",
     "text": [
      "{cirq.H: 1, cirq.CNOT: 2, cirq.X: 1, cirq.MeasurementGate(3, cirq.MeasurementKey(name='result123'), ()): 3}\n"
     ]
    }
   ],
   "source": [
    "print(a)"
   ]
  },
  {
   "cell_type": "code",
   "execution_count": 10,
   "id": "f10ff12c-6645-4da9-9dc9-2e0deab3c96d",
   "metadata": {},
   "outputs": [
    {
     "name": "stdout",
     "output_type": "stream",
     "text": [
      "\n",
      "Operation counts in the circuit:\n",
      "<class 'cirq.ops.common_gates.HPowGate'>: 1\n",
      "<class 'cirq.ops.common_gates.CXPowGate'>: 2\n",
      "<class 'cirq.ops.pauli_gates._PauliX'>: 1\n",
      "<class 'cirq.ops.measurement_gate.MeasurementGate'>: 1\n"
     ]
    }
   ],
   "source": [
    "from collections import Counter\n",
    "\n",
    "# Function to count the operations in the circuit\n",
    "def count_operations(circuit):\n",
    "    operation_counter = Counter()\n",
    "    for op in circuit.all_operations():\n",
    "        operation_counter[type(op.gate)] += 1\n",
    "    return operation_counter\n",
    "\n",
    "# Get the operation counts\n",
    "operation_counts = count_operations(circuit)\n",
    "\n",
    "# Print the operation counts\n",
    "print(\"\\nOperation counts in the circuit:\")\n",
    "for operation, count in operation_counts.items():\n",
    "    print(f\"{operation}: {count}\")\n"
   ]
  },
  {
   "cell_type": "code",
   "execution_count": 11,
   "id": "db5f0241-923e-42e1-80e5-ea61c2fa777a",
   "metadata": {},
   "outputs": [
    {
     "name": "stdout",
     "output_type": "stream",
     "text": [
      "(0, 0): ───H───────Uf───H───M('result')───\n",
      "                   │        │\n",
      "(1, 0): ───H───────Uf───H───M─────────────\n",
      "                   │\n",
      "(2, 0): ───X───H───Uf───X─────────────────\n",
      "*************************\n",
      "(0, 0): ───H───────Uf_b───H───M('result')───\n",
      "                   │          │\n",
      "(1, 0): ───H───────Uf_b───H───M─────────────\n",
      "                   │\n",
      "(2, 0): ───X───H───Uf_b───X─────────────────\n"
     ]
    }
   ],
   "source": [
    "import cirq,cirq_utils\n",
    "import numpy as np\n",
    "# Create a constant oracle, appending gates to given circuit\n",
    "def constant_oracle(input_size, num_qubits):\n",
    "\n",
    "    #Initialize Quantum Circuit\n",
    "    qr = [cirq.GridQubit(i, 0) for i in range(num_qubits)]\n",
    "    qc = cirq.Circuit()\n",
    "\n",
    "    #Added identities because cirq requires gates on each qubit\n",
    "    for qubit in range(input_size):\n",
    "        qc.append(cirq.I(qr[qubit]))\n",
    "\n",
    "    #Add X Gate or Identity at random on last qubit for constant oracle\n",
    "    output = np.random.randint(2)\n",
    "    if output == 1:\n",
    "        qc.append(cirq.X(qr[input_size]))\n",
    "    else:\n",
    "        qc.append(cirq.I(qr[input_size]))\n",
    "\n",
    "    return cirq_utils.to_gate(num_qubits=num_qubits, circ=qc, name=\"Uf\")\n",
    "\n",
    "def balanced_oracle(input_size, num_qubits):\n",
    "\n",
    "    #Initialize Quantum Circuit\n",
    "    qr = [cirq.GridQubit(i, 0) for i in range(num_qubits)]\n",
    "    qc = cirq.Circuit()\n",
    "\n",
    "    b_str = \"10101010101010101010\"  # permit input_string up to 20 chars\n",
    "    for qubit in range(input_size):\n",
    "        if b_str[qubit] == '1':\n",
    "            qc.append(cirq.X(qr[qubit]))\n",
    "            \n",
    "    for qubit in range(input_size):\n",
    "        qc.append(cirq.CX(qr[qubit], qr[input_size]))\n",
    "\n",
    "    for qubit in range(input_size):\n",
    "        if b_str[qubit] == '1':\n",
    "            qc.append(cirq.X(qr[qubit]))\n",
    "\n",
    "    return cirq_utils.to_gate(num_qubits=num_qubits, circ=qc, name=\"Uf_b\")\n",
    "\n",
    "# Create benchmark circuit\n",
    "def DeutschJozsa(num_qubits, type):\n",
    "    # size of input is one less than available qubits\n",
    "    input_size = num_qubits - 1\n",
    "\n",
    "    # allocate qubits\n",
    "    qr = [cirq.GridQubit(i, 0) for i in range(num_qubits)]\n",
    "    qc = cirq.Circuit()\n",
    "\n",
    "    # start with flipping the ancilla to 1\n",
    "    qc.append(cirq.X(qr[input_size]))\n",
    "\n",
    "    # Add Hadamard on all qubits, including ancilla\n",
    "    for i_qubit in range(num_qubits):\n",
    "        qc.append(cirq.H(qr[i_qubit]))\n",
    "\n",
    "    # Add a constant or balanced oracle function\n",
    "    if type == 0:\n",
    "        Uf = constant_oracle(input_size, num_qubits)\n",
    "    else:\n",
    "        Uf = balanced_oracle(input_size, num_qubits)\n",
    "\n",
    "    qc.append(Uf.on(*qr))\n",
    "  \n",
    "    # end with Hadamard on all qubits, excluding ancilla\n",
    "    for i_qubit in range(input_size):\n",
    "        qc.append(cirq.H(qr[i_qubit]))\n",
    "\n",
    "    # uncompute ancilla qubit, not necessary for algorithm\n",
    "    qc.append(cirq.X(qr[input_size]))\n",
    "\n",
    "    # measure all qubits, excluding ancilla\n",
    "    qc.append(cirq.measure(*[qr[i_qubit] for i_qubit in range(input_size)], key='result'))\n",
    "\n",
    "    # # save smaller circuit example for display\n",
    "    # global QC_, Uf_\n",
    "    # if QC_ == None or num_qubits <= 6:\n",
    "    #     if num_qubits < 9: QC_ = qc\n",
    "    # if Uf_ == None or num_qubits <= 6:\n",
    "    #     if num_qubits < 9: Uf_ = Uf\n",
    "\n",
    "    # return a handle on the circuit\n",
    "    return qc\n",
    "\n",
    "qc1= DeutschJozsa(3,0)\n",
    "print(qc1)\n",
    "print(\"*************************\")\n",
    "qc2= DeutschJozsa(3,1)\n",
    "print(qc2)"
   ]
  },
  {
   "cell_type": "code",
   "execution_count": 12,
   "id": "ac04b3e5-8ccb-408d-9a52-305aee2aa05d",
   "metadata": {},
   "outputs": [],
   "source": [
    "def get_counts(res):\n",
    "    # get measurement array\n",
    "    measurements = res.measurements['result']\n",
    "        \n",
    "    # Initialize an empty dictionary for counts\n",
    "    counts = {}\n",
    "    \n",
    "    # Iterate through measurements and populate counts\n",
    "    for row in measurements:\n",
    "        # Convert row to a string for use as dictionary key\n",
    "        key = \"\".join([str(x) for x in reversed(row)])\n",
    "    \n",
    "        # Update counts dictionary\n",
    "        if key in counts:\n",
    "            counts[key] += 1\n",
    "        else:\n",
    "            counts[key] = 1\n",
    "    \n",
    "    print(counts)"
   ]
  },
  {
   "cell_type": "code",
   "execution_count": 13,
   "id": "21772019-ee16-48ff-9c74-e2de8c91d681",
   "metadata": {},
   "outputs": [
    {
     "name": "stdout",
     "output_type": "stream",
     "text": [
      "{'00': 100}\n"
     ]
    },
    {
     "name": "stderr",
     "output_type": "stream",
     "text": [
      "/home/cdac/anaconda3/envs/cirq/lib/python3.10/site-packages/cirq/vis/state_histogram.py:107: UserWarning: FigureCanvasAgg is non-interactive, and thus cannot be shown\n",
      "  fig.show()\n"
     ]
    },
    {
     "data": {
      "text/plain": [
       "<Axes: title={'center': 'Result State Histogram'}, xlabel='qubit state', ylabel='result count'>"
      ]
     },
     "execution_count": 13,
     "metadata": {},
     "output_type": "execute_result"
    },
    {
     "data": {
      "image/png": "[encoded data removed]",
      "text/plain": [
       "<Figure size 640x480 with 1 Axes>"
      ]
     },
     "metadata": {},
     "output_type": "display_data"
    }
   ],
   "source": [
    "sim = cirq.DensityMatrixSimulator()\n",
    "res = sim.run(qc1, repetitions=100)\n",
    "get_counts(res)\n",
    "cirq.plot_state_histogram(res)"
   ]
  },
  {
   "cell_type": "code",
   "execution_count": 14,
   "id": "1271afc3-4b1b-4c27-8058-8b53e6ddc419",
   "metadata": {},
   "outputs": [
    {
     "name": "stdout",
     "output_type": "stream",
     "text": [
      "{'11': 100}\n"
     ]
    },
    {
     "name": "stderr",
     "output_type": "stream",
     "text": [
      "/home/cdac/anaconda3/envs/cirq/lib/python3.10/site-packages/cirq/vis/state_histogram.py:107: UserWarning: FigureCanvasAgg is non-interactive, and thus cannot be shown\n",
      "  fig.show()\n"
     ]
    },
    {
     "data": {
      "text/plain": [
       "<Axes: title={'center': 'Result State Histogram'}, xlabel='qubit state', ylabel='result count'>"
      ]
     },
     "execution_count": 14,
     "metadata": {},
     "output_type": "execute_result"
    },
    {
     "data": {
      "image/png": "[encoded data removed]",
      "text/plain": [
       "<Figure size 640x480 with 1 Axes>"
      ]
     },
     "metadata": {},
     "output_type": "display_data"
    }
   ],
   "source": [
    "sim = cirq.DensityMatrixSimulator()\n",
    "res = sim.run(qc2, repetitions=100)\n",
    "get_counts(res)\n",
    "cirq.plot_state_histogram(res)"
   ]
  },
  {
   "cell_type": "code",
   "execution_count": 15,
   "id": "3377e0f6-9984-4855-b0bd-7586e2492b1e",
   "metadata": {},
   "outputs": [
    {
     "data": {
      "text/plain": [
       "OrderedDict()"
      ]
     },
     "execution_count": 15,
     "metadata": {},
     "output_type": "execute_result"
    }
   ],
   "source": [
    "res.params.param_dict"
   ]
  },
  {
   "cell_type": "code",
   "execution_count": 16,
   "id": "ea354fce-931a-4732-827f-a7191eddde6c",
   "metadata": {},
   "outputs": [
    {
     "name": "stdout",
     "output_type": "stream",
     "text": [
      "X(q(2, 0))\n",
      "H(q(0, 0))\n",
      "H(q(1, 0))\n",
      "H(q(2, 0))\n",
      "<cirq_utils.to_gate object at 0x76a34b7e7b20>(q(0, 0), q(1, 0), q(2, 0))\n",
      "H(q(0, 0))\n",
      "H(q(1, 0))\n",
      "X(q(2, 0))\n",
      "cirq.MeasurementGate(2, cirq.MeasurementKey(name='result'), ())(q(0, 0), q(1, 0))\n"
     ]
    }
   ],
   "source": [
    "a=dict()\n",
    "for i in qc1.all_operations():\n",
    "    print(i)"
   ]
  },
  {
   "cell_type": "code",
   "execution_count": 17,
   "id": "0fe16ffb-de8d-40d4-beeb-bb78616c4919",
   "metadata": {},
   "outputs": [
    {
     "name": "stdout",
     "output_type": "stream",
     "text": [
      "{}\n"
     ]
    }
   ],
   "source": [
    "print(a)"
   ]
  },
  {
   "cell_type": "code",
   "execution_count": 18,
   "id": "aebb47e0-9279-4825-84bf-a5986ef47c45",
   "metadata": {},
   "outputs": [],
   "source": [
    "for key in a.keys():\n",
    "    print(key.num_qubits())"
   ]
  },
  {
   "cell_type": "code",
   "execution_count": 19,
   "id": "cab6bcb8-0f22-419f-9b99-e7ed14950a82",
   "metadata": {},
   "outputs": [
    {
     "name": "stdout",
     "output_type": "stream",
     "text": [
      "<cirq_utils.to_gate object at 0x76a34b7e7b20>\n"
     ]
    }
   ],
   "source": [
    "# Function to print only custom gates\n",
    "def print_custom_gates(circuit, custom_gate_class):\n",
    "    for operation in circuit.all_operations():\n",
    "        if isinstance(operation.gate, custom_gate_class):\n",
    "            print(operation.gate)\n",
    "            return operation\n",
    "        elif isinstance(operation.gate, cirq.MeasurementGate):\n",
    "            # Skip the measurement gate\n",
    "            continue\n",
    "\n",
    "# Print only custom gates in the circuit\n",
    "ckt = print_custom_gates(qc1, cirq_utils.to_gate)"
   ]
  },
  {
   "cell_type": "code",
   "execution_count": 20,
   "id": "25ce47dc-e01d-44e5-a404-67ff5c4a0cc9",
   "metadata": {},
   "outputs": [
    {
     "name": "stdout",
     "output_type": "stream",
     "text": [
      "(0, 0): ───I───\n",
      "\n",
      "(1, 0): ───I───\n",
      "\n",
      "(2, 0): ───I───\n",
      "I(q(0, 0))\n",
      "I(q(1, 0))\n",
      "I(q(2, 0))\n"
     ]
    }
   ],
   "source": [
    "qc_e = ckt.gate.circ.copy()\n",
    "print(qc_e)\n",
    "for i in qc_e.all_operations():\n",
    "    print(i)"
   ]
  },
  {
   "cell_type": "code",
   "execution_count": 21,
   "id": "987d5df1-4c6e-4132-afa8-9eb147718e2c",
   "metadata": {},
   "outputs": [
    {
     "name": "stdout",
     "output_type": "stream",
     "text": [
      "\n"
     ]
    }
   ],
   "source": [
    "qce=cirq.Circuit(cirq.decompose(qc_e))\n",
    "print(qce)"
   ]
  },
  {
   "cell_type": "code",
   "execution_count": 22,
   "id": "031d957d-b56b-4886-9eb8-1e3d50dfd1d4",
   "metadata": {},
   "outputs": [
    {
     "data": {
      "text/plain": [
       "{cirq.X: 2, cirq.H: 5, 'Uf': 1}"
      ]
     },
     "execution_count": 22,
     "metadata": {},
     "output_type": "execute_result"
    }
   ],
   "source": [
    "# Function to count gate occurrences\n",
    "def count_gates(circuit):\n",
    "    gate_counts = {}\n",
    "    for operation in circuit.all_operations():\n",
    "        gate = operation.gate\n",
    "        if isinstance(gate,cirq.MeasurementGate)==False:\n",
    "            if isinstance(gate, cirq_utils.to_gate):\n",
    "                gate_name = gate.name\n",
    "            else:\n",
    "                gate_name = (gate)\n",
    "            if gate_name in gate_counts:\n",
    "                gate_counts[gate_name] += 1\n",
    "            else:\n",
    "                gate_counts[gate_name] = 1\n",
    "    return gate_counts\n",
    "\n",
    "count_gates(qc1)"
   ]
  },
  {
   "cell_type": "code",
   "execution_count": 23,
   "id": "683fa7a9-9ecd-41f4-a000-d5a5cade6577",
   "metadata": {},
   "outputs": [
    {
     "data": {
      "text/plain": [
       "{cirq.X: 2, cirq.H: 5, 'Uf': 1}"
      ]
     },
     "execution_count": 23,
     "metadata": {},
     "output_type": "execute_result"
    }
   ],
   "source": [
    "count_gates(qc1)"
   ]
  },
  {
   "cell_type": "code",
   "execution_count": 24,
   "id": "14ccba95-e2f9-4abd-8743-8b8b0cab9dc7",
   "metadata": {},
   "outputs": [
    {
     "name": "stdout",
     "output_type": "stream",
     "text": [
      "(0, 0): ───H───────Uf───H───M('result')───\n",
      "                   │        │\n",
      "(1, 0): ───H───────Uf───H───M─────────────\n",
      "                   │\n",
      "(2, 0): ───X───H───Uf───X─────────────────\n"
     ]
    }
   ],
   "source": [
    "print(qc1)"
   ]
  },
  {
   "cell_type": "code",
   "execution_count": 25,
   "id": "4c081f9a-9ae9-4a98-9e1e-73d20fd91c31",
   "metadata": {},
   "outputs": [
    {
     "name": "stdout",
     "output_type": "stream",
     "text": [
      "(0, 0): ───Y^0.5───X───────Y^0.5───X───M('result')───\n",
      "                                       │\n",
      "(1, 0): ───Y^0.5───X───────Y^0.5───X───M─────────────\n",
      "\n",
      "(2, 0): ───X───────Y^0.5───X───────X─────────────────\n"
     ]
    }
   ],
   "source": [
    "qc2=cirq.Circuit(cirq.decompose(qc1))\n",
    "print(qc2)"
   ]
  },
  {
   "cell_type": "code",
   "execution_count": 26,
   "id": "892e51ac-60cf-4211-a004-c35c71d3819e",
   "metadata": {},
   "outputs": [
    {
     "name": "stdout",
     "output_type": "stream",
     "text": [
      "(0, 0): ───────────────────────────M('result')───\n",
      "                                   │\n",
      "(1, 0): ───────────────────────────M─────────────\n",
      "\n",
      "(2, 0): ───PhXZ(a=0.5,x=0.5,z=1)─────────────────\n"
     ]
    }
   ],
   "source": [
    "# Define the target gateset with proper gate instances\n",
    "target_gateset = cirq.Gateset(\n",
    "    cirq.rx(0),  # You can specify a parameter if you want, here 0 is used as a placeholder\n",
    "    cirq.ry(0),\n",
    "    cirq.rz(0),\n",
    "    cirq.CNOT,\n",
    "    unroll_circuit_op=False  # Keep this as False if you don't want to unroll `cirq.CircuitOperation`\n",
    ")\n",
    "\n",
    "# Optimize the circuit for the target gateset\n",
    "optimized_circuit = cirq.optimize_for_target_gateset(\n",
    "    qc2,\n",
    "    gateset=cirq.CZTargetGateset()#,\n",
    "    #context=cirq.TransformerContext(deep=True)  # Use deep context to ensure full optimization\n",
    ")\n",
    "print(optimized_circuit)"
   ]
  },
  {
   "cell_type": "code",
   "execution_count": 27,
   "id": "b68eb39e-b204-4cf8-8e83-7126282ed9cf",
   "metadata": {},
   "outputs": [
    {
     "data": {
      "text/plain": [
       "<property at 0x76a34f8631a0>"
      ]
     },
     "execution_count": 27,
     "metadata": {},
     "output_type": "execute_result"
    }
   ],
   "source": [
    "cirq.Result.data"
   ]
  },
  {
   "cell_type": "code",
   "execution_count": 28,
   "id": "79e0eeae-5a0f-405b-bee9-35d5f0350ee3",
   "metadata": {},
   "outputs": [
    {
     "name": "stdout",
     "output_type": "stream",
     "text": [
      "(0, 0): ───H───────Uf───H───M('result')───\n",
      "                   │        │\n",
      "(1, 0): ───H───────Uf───H───M─────────────\n",
      "                   │\n",
      "(2, 0): ───X───H───Uf───X─────────────────\n"
     ]
    }
   ],
   "source": [
    "print(qc1)"
   ]
  },
  {
   "cell_type": "code",
   "execution_count": 29,
   "id": "d94cda78-9649-4dae-bc15-f5e24d3e1ee3",
   "metadata": {},
   "outputs": [],
   "source": [
    "counts_dict =dict()\n",
    "temp_dict =dict()\n",
    "def count_operations(qc,key):\n",
    "    if key==None:\n",
    "        temp_dict.update(count_gates(qc))\n",
    "    else:\n",
    "        counts_dict[str(key)] = count_gates(qc)\n",
    "    for i in qc.all_operations():\n",
    "        if isinstance(i.gate, cirq_utils.to_gate):\n",
    "            qc_1 = i.gate.circ.copy()\n",
    "            count_operations(qc_1,i.gate.name)\n",
    "\n",
    "count_operations(qc1,None)"
   ]
  },
  {
   "cell_type": "code",
   "execution_count": 30,
   "id": "3ced29f9-ed73-4835-ba1f-0f070da9e64f",
   "metadata": {},
   "outputs": [
    {
     "data": {
      "text/plain": [
       "{'Uf': {cirq.I: 3}}"
      ]
     },
     "execution_count": 30,
     "metadata": {},
     "output_type": "execute_result"
    }
   ],
   "source": [
    "counts_dict"
   ]
  },
  {
   "cell_type": "code",
   "execution_count": 31,
   "id": "29bf54b4-aa16-45d8-badd-d4f3b124e117",
   "metadata": {},
   "outputs": [
    {
     "data": {
      "text/plain": [
       "{cirq.X: 2, cirq.H: 5, 'Uf': 1}"
      ]
     },
     "execution_count": 31,
     "metadata": {},
     "output_type": "execute_result"
    }
   ],
   "source": [
    "temp_dict"
   ]
  },
  {
   "cell_type": "code",
   "execution_count": 32,
   "id": "cfdf72b6-dabb-42f9-b4fa-48a9dad00291",
   "metadata": {},
   "outputs": [],
   "source": [
    "def update_counts(gates,custom_gates):\n",
    "    operations = {}\n",
    "    for key, value in gates.items():\n",
    "        operations[key] = value\n",
    "    for key, value in custom_gates.items():\n",
    "        if key in operations:\n",
    "            operations[key] += value\n",
    "        else:\n",
    "            operations[key] = value       \n",
    "    return operations\n",
    "\n",
    "def get_gate_counts(gates,custom_gate_defs):\n",
    "    result = gates.copy()\n",
    "    # Iterate over the gate counts in the quantum circuit\n",
    "    for gate, count in gates.items():\n",
    "        if gate in custom_gate_defs:\n",
    "            custom_gate_ops = custom_gate_defs[gate]\n",
    "            # Multiply custom gate operations by the count of the custom gate in the circuit\n",
    "            for _ in range(count):\n",
    "                result = update_counts(result, custom_gate_ops)\n",
    "            # Remove the custom gate entry as we have expanded it\n",
    "            del result[gate]\n",
    "    return result"
   ]
  },
  {
   "cell_type": "code",
   "execution_count": 33,
   "id": "0e0f43f8-dea4-4fc8-9569-ad7e7759247f",
   "metadata": {},
   "outputs": [],
   "source": [
    "res=get_gate_counts(temp_dict,counts_dict)"
   ]
  },
  {
   "cell_type": "code",
   "execution_count": 34,
   "id": "d8d94640-c2bd-4402-96a5-c8368ee4eab6",
   "metadata": {},
   "outputs": [
    {
     "name": "stdout",
     "output_type": "stream",
     "text": [
      "{cirq.X: 2, cirq.H: 5, cirq.I: 3}\n"
     ]
    }
   ],
   "source": [
    "print(res)"
   ]
  },
  {
   "cell_type": "code",
   "execution_count": 35,
   "id": "2ee112df-bb1e-4f94-a2bd-b44559dbcf78",
   "metadata": {},
   "outputs": [
    {
     "name": "stdout",
     "output_type": "stream",
     "text": [
      "X(q(2, 0))\n",
      "H(q(0, 0))\n",
      "H(q(1, 0))\n",
      "H(q(2, 0))\n",
      "<cirq_utils.to_gate object at 0x76a34b7e7b20>(q(0, 0), q(1, 0), q(2, 0))\n",
      "H(q(0, 0))\n",
      "H(q(1, 0))\n",
      "X(q(2, 0))\n",
      "cirq.MeasurementGate(2, cirq.MeasurementKey(name='result'), ())(q(0, 0), q(1, 0))\n"
     ]
    },
    {
     "ename": "AttributeError",
     "evalue": "'MeasurementGate' object has no attribute 'name'",
     "output_type": "error",
     "traceback": [
      "\u001b[0;31m---------------------------------------------------------------------------\u001b[0m",
      "\u001b[0;31mAttributeError\u001b[0m                            Traceback (most recent call last)",
      "Cell \u001b[0;32mIn[35], line 4\u001b[0m\n\u001b[1;32m      2\u001b[0m \u001b[38;5;28mprint\u001b[39m(i)\n\u001b[1;32m      3\u001b[0m \u001b[38;5;28;01mif\u001b[39;00m \u001b[38;5;28misinstance\u001b[39m(i\u001b[38;5;241m.\u001b[39mgate, cirq\u001b[38;5;241m.\u001b[39mMeasurementGate):\n\u001b[0;32m----> 4\u001b[0m     \u001b[38;5;28mprint\u001b[39m(\u001b[43mi\u001b[49m\u001b[38;5;241;43m.\u001b[39;49m\u001b[43mgate\u001b[49m\u001b[38;5;241;43m.\u001b[39;49m\u001b[43mname\u001b[49m)\n",
      "\u001b[0;31mAttributeError\u001b[0m: 'MeasurementGate' object has no attribute 'name'"
     ]
    }
   ],
   "source": [
    "for i in qc1.all_operations():\n",
    "    print(i)\n",
    "    if isinstance(i.gate, cirq.MeasurementGate):\n",
    "        print(i.gate.name)"
   ]
  },
  {
   "cell_type": "code",
   "execution_count": null,
   "id": "b13f3b9b-8250-4c4f-be6c-57ed44bbae85",
   "metadata": {},
   "outputs": [],
   "source": [
    "for k,v in temp_dict.items():\n",
    "    print(type(k))"
   ]
  },
  {
   "cell_type": "code",
   "execution_count": null,
   "id": "6770c35d-bccc-4207-9056-cee825883a0c",
   "metadata": {},
   "outputs": [],
   "source": [
    "actual = count_gates(qc1)\n",
    "print(actual)"
   ]
  },
  {
   "cell_type": "code",
   "execution_count": null,
   "id": "dde791a0-0e2d-48cf-894d-643d1039d592",
   "metadata": {},
   "outputs": [],
   "source": [
    "for k,v in actual.items():\n",
    "    if isinstance(k,cirq.Gate)==False:\n",
    "        print(k)"
   ]
  },
  {
   "cell_type": "code",
   "execution_count": null,
   "id": "63b510a5-6277-4d6c-ab0e-d158e1faf211",
   "metadata": {},
   "outputs": [],
   "source": [
    "n1q=0\n",
    "n2q=0\n",
    "for k,v in res.items():\n",
    "    if (k.num_qubits())>1:\n",
    "        n2q+=v\n",
    "    else:\n",
    "        n1q+=v"
   ]
  },
  {
   "cell_type": "code",
   "execution_count": null,
   "id": "22dfafee-6d91-4156-a5e8-d4f584c737bd",
   "metadata": {},
   "outputs": [],
   "source": [
    "n1q "
   ]
  },
  {
   "cell_type": "code",
   "execution_count": null,
   "id": "74a9f3c1-c6d0-456a-820d-d6205f17940b",
   "metadata": {},
   "outputs": [],
   "source": [
    "x=count_operations(qc1,None)\n",
    "print(x)"
   ]
  },
  {
   "cell_type": "code",
   "execution_count": null,
   "id": "c81fd408-dc1e-4f22-9a0d-1525829acebf",
   "metadata": {},
   "outputs": [],
   "source": [
    "counts_dict"
   ]
  },
  {
   "cell_type": "code",
   "execution_count": null,
   "id": "e072bada-d6bd-46de-ab65-e6501ab4d6c2",
   "metadata": {},
   "outputs": [],
   "source": [
    "temp_dict"
   ]
  },
  {
   "cell_type": "code",
   "execution_count": null,
   "id": "a98a6f73-7d35-481d-863d-8880ca95feba",
   "metadata": {},
   "outputs": [],
   "source": [
    "for i in temp_dict.keys():\n",
    "    if isinstance(i,cirq.Gate)==False:\n",
    "        print(i)"
   ]
  },
  {
   "cell_type": "code",
   "execution_count": null,
   "id": "eb324621-ef11-4f6d-87d5-747d5434cad2",
   "metadata": {},
   "outputs": [],
   "source": [
    "qc1"
   ]
  },
  {
   "cell_type": "code",
   "execution_count": null,
   "id": "b2430e9d-5dc0-4a2b-bae5-0fff1aa54886",
   "metadata": {},
   "outputs": [],
   "source": [
    "qc1.moments"
   ]
  },
  {
   "cell_type": "code",
   "execution_count": null,
   "id": "5533e475-972b-46af-a0ff-2cd3a0fb0389",
   "metadata": {},
   "outputs": [],
   "source": [
    "qcx = qc1.copy()"
   ]
  },
  {
   "cell_type": "code",
   "execution_count": null,
   "id": "e1a9bea1-37ba-4362-b2c4-f62e39cd4bc4",
   "metadata": {},
   "outputs": [],
   "source": [
    "qcx = qcx.with_noise(cirq.amplitude_damp(gamma=0.01))"
   ]
  },
  {
   "cell_type": "code",
   "execution_count": null,
   "id": "5296fe13-ddf6-4502-a638-857c7d6e7785",
   "metadata": {},
   "outputs": [],
   "source": [
    "qcx.moments"
   ]
  },
  {
   "cell_type": "code",
   "execution_count": null,
   "id": "de0c46b5-634b-4798-a7cd-a71b35dd2d14",
   "metadata": {},
   "outputs": [],
   "source": [
    "qcx = qcx.with_noise(cirq.phase_flip(p=0.01))\n",
    "qcx.moments"
   ]
  },
  {
   "cell_type": "code",
   "execution_count": 133,
   "id": "d7841a0c-5ce9-4649-85e7-8a8c5fd9d664",
   "metadata": {},
   "outputs": [
    {
     "data": {
      "text/html": [
       "<pre style=\"overflow: auto; white-space: pre;\">(0, 0): ───H───────Uf───H───M(&#x27;result&#x27;)───\n",
       "                   │        │\n",
       "(1, 0): ───H───────Uf───H───M─────────────\n",
       "                   │\n",
       "(2, 0): ───X───H───Uf───X─────────────────</pre>"
      ],
      "text/plain": [
       "(0, 0): ───H───────Uf───H───M('result')───\n",
       "                   │        │\n",
       "(1, 0): ───H───────Uf───H───M─────────────\n",
       "                   │\n",
       "(2, 0): ───X───H───Uf───X─────────────────"
      ]
     },
     "execution_count": 133,
     "metadata": {},
     "output_type": "execute_result"
    }
   ],
   "source": [
    "qc1"
   ]
  },
  {
   "cell_type": "code",
   "execution_count": 134,
   "id": "2f0fc598-e4c1-4e43-a6ca-4417604b3eb7",
   "metadata": {},
   "outputs": [
    {
     "name": "stdout",
     "output_type": "stream",
     "text": [
      "X\n",
      "H\n",
      "H\n",
      "H\n",
      "<cirq_utils.to_gate object at 0x76a34b7e7b20>\n",
      "H\n",
      "H\n",
      "X\n",
      "cirq.MeasurementGate(2, cirq.MeasurementKey(name='result'), ())\n"
     ]
    }
   ],
   "source": [
    "for i in qc1.all_operations():\n",
    "    print(i.gate)"
   ]
  },
  {
   "cell_type": "code",
   "execution_count": 135,
   "id": "b9f113b3-ad5b-4cd5-86c1-92819b76b2cf",
   "metadata": {},
   "outputs": [
    {
     "name": "stdout",
     "output_type": "stream",
     "text": [
      "(0, 0): ───I───\n",
      "\n",
      "(1, 0): ───I───\n",
      "\n",
      "(2, 0): ───I───\n"
     ]
    }
   ],
   "source": [
    "dict_of_qc =dict()\n",
    "def circuit_traverser(qc,key=None):\n",
    "    if key == None:\n",
    "        key = \"qc\"\n",
    "    dict_of_qc[key]=count_gates(qc)\n",
    "    for i in qc.all_operations():\n",
    "        if isinstance(i.gate,cirq_utils.to_gate):\n",
    "            qc_1 = i.gate.circ.copy()\n",
    "            print(qc_1)\n",
    "            circuit_traverser(qc_1,i.gate.name)\n",
    "            \n",
    "circuit_traverser(qc1)"
   ]
  },
  {
   "cell_type": "code",
   "execution_count": 136,
   "id": "25fab6b5-f4b6-4b7c-b3bf-f74fe4ccb7bc",
   "metadata": {},
   "outputs": [
    {
     "name": "stdout",
     "output_type": "stream",
     "text": [
      "{'qc': {cirq.X: 2, cirq.H: 5, 'Uf': 1}, 'Uf': {cirq.I: 3}}\n"
     ]
    }
   ],
   "source": [
    "print(dict_of_qc)"
   ]
  },
  {
   "cell_type": "code",
   "execution_count": 109,
   "id": "0a3abdd3-8fed-4581-84ed-0184c98e826a",
   "metadata": {},
   "outputs": [
    {
     "ename": "NameError",
     "evalue": "name 'qc_1' is not defined",
     "output_type": "error",
     "traceback": [
      "\u001b[0;31m---------------------------------------------------------------------------\u001b[0m",
      "\u001b[0;31mNameError\u001b[0m                                 Traceback (most recent call last)",
      "Cell \u001b[0;32mIn[109], line 1\u001b[0m\n\u001b[0;32m----> 1\u001b[0m \u001b[43mqc_1\u001b[49m \n",
      "\u001b[0;31mNameError\u001b[0m: name 'qc_1' is not defined"
     ]
    }
   ],
   "source": [
    "qc_1 "
   ]
  },
  {
   "cell_type": "code",
   "execution_count": 131,
   "id": "70321e52-e2f6-400b-8dbb-3ec1c4bdecc4",
   "metadata": {},
   "outputs": [
    {
     "name": "stdout",
     "output_type": "stream",
     "text": [
      "TOFFOLI\n",
      "TOFFOLI\n",
      "CCZ\n",
      "CNOT\n",
      "FREDKIN\n",
      "CNOT\n",
      "CZ\n",
      "FREDKIN\n",
      "H\n",
      "I\n",
      "ISWAP\n",
      "ISWAP_INV\n",
      "S\n",
      "ISWAP**0.5\n",
      "ISWAP**-0.5\n",
      "SWAP\n",
      "T\n",
      "TOFFOLI\n",
      "X\n",
      "XX\n",
      "Y\n",
      "YY\n",
      "Z\n",
      "ZZ\n"
     ]
    }
   ],
   "source": [
    "import cirq\n",
    "import inspect\n",
    "\n",
    "# Function to check if an object is a gate\n",
    "def is_gate(obj):\n",
    "    return isinstance(obj, cirq.Gate)\n",
    "\n",
    "# Get all attributes from the cirq module\n",
    "cirq_attributes = dir(cirq)\n",
    "\n",
    "# Filter out the gates from the attributes\n",
    "standard_gates = [getattr(cirq, attr) for attr in cirq_attributes if is_gate(getattr(cirq, attr))]\n",
    "\n",
    "# Print the list of standard gates\n",
    "for gate in standard_gates:\n",
    "    print(gate)\n"
   ]
  },
  {
   "cell_type": "code",
   "execution_count": 102,
   "id": "1dd4e3e9-60da-4471-a604-63dd89450794",
   "metadata": {},
   "outputs": [
    {
     "name": "stdout",
     "output_type": "stream",
     "text": [
      "Instance GateFamily: X\n",
      "Instance GateFamily: H\n",
      "Instance GateFamily: H\n",
      "Instance GateFamily: H\n",
      "Instance GateFamily: <cirq_utils.to_gate object at 0x76a34b7e7b20>\n",
      "Instance GateFamily: H\n",
      "Instance GateFamily: H\n",
      "Instance GateFamily: X\n",
      "Instance GateFamily: cirq.MeasurementGate(2, cirq.MeasurementKey(name='result'), ())\n"
     ]
    }
   ],
   "source": [
    "for i in qc1.all_operations():\n",
    "    if cirq.GateFamily(i.gate)==None:\n",
    "        print(i)\n",
    "\n",
    "    else:\n",
    "        print(cirq.GateFamily(i.gate).name)"
   ]
  },
  {
   "cell_type": "code",
   "execution_count": 99,
   "id": "caa16198-3517-4f45-8587-a0cbfe12ab4b",
   "metadata": {},
   "outputs": [
    {
     "ename": "TypeError",
     "evalue": "'ABCMetaImplementAnyOneOf' object is not iterable",
     "output_type": "error",
     "traceback": [
      "\u001b[0;31m---------------------------------------------------------------------------\u001b[0m",
      "\u001b[0;31mTypeError\u001b[0m                                 Traceback (most recent call last)",
      "Cell \u001b[0;32mIn[99], line 1\u001b[0m\n\u001b[0;32m----> 1\u001b[0m \u001b[38;5;28;01mfor\u001b[39;00m i \u001b[38;5;129;01min\u001b[39;00m cirq\u001b[38;5;241m.\u001b[39mGate:\n\u001b[1;32m      2\u001b[0m     \u001b[38;5;28mprint\u001b[39m(i)\n",
      "\u001b[0;31mTypeError\u001b[0m: 'ABCMetaImplementAnyOneOf' object is not iterable"
     ]
    }
   ],
   "source": [
    "cirq.Gat"
   ]
  },
  {
   "cell_type": "code",
   "execution_count": 130,
   "id": "03d4e25c-d0fc-46a0-a9c5-c0e8d8d14b6d",
   "metadata": {},
   "outputs": [
    {
     "name": "stdout",
     "output_type": "stream",
     "text": [
      "(0, 0): ───I───\n",
      "\n",
      "(1, 0): ───I───\n",
      "\n",
      "(2, 0): ───I───\n"
     ]
    }
   ],
   "source": [
    "for i in qc1.all_operations():\n",
    "    if isinstance(i.gate,cirq_utils.to_gate):\n",
    "        qc_1 = i.gate.circ.copy()\n",
    "        print(qc_1)"
   ]
  },
  {
   "cell_type": "code",
   "execution_count": null,
   "id": "d7472c61-76b1-4725-aeb5-89380f635e20",
   "metadata": {},
   "outputs": [],
   "source": [
    "dict_of_qc : {'C-U^2': {'cMULTamodN': 1, cirq.FREDKIN: 2, (<cirq_utils.to_gate object at 0x79128c69d870>**-1): 1},\n",
    "              'cMULTamodN': {'qft': 1, 'ccφADDmodN': 2, 'inv_qft': 1}, 'qft': {cirq.H: 3, (cirq.CZ**0.5): 2, (cirq.CZ**0.25): 1}, \n",
    "              'ccφADDmodN': {'φADD': 3, (<cirq_utils.to_gate object at 0x79128c5902e0>**-1): 1, 'inv_qft': 2, cirq.CNOT: 2, 'qft': 2, \n",
    "                             cirq.ControlledGate(sub_gate=(<cirq_utils.to_gate object at 0x79128c57fd30>**-1), num_controls=2): 1, cirq.X: 2},\n",
    "'inv_qft': {cirq.H: 4, (cirq.CZ**-0.5): 3, (cirq.CZ**-0.25): 2, (cirq.CZ**-0.125): 1},\n",
    "'C-U^4': {'cMULTamodN': 1, cirq.FREDKIN: 2, (<cirq_utils.to_gate object at 0x79128c5199f0>**-1): 1}, \n",
    "'C-U^16': {'cMULTamodN': 1, cirq.FREDKIN: 2, (<cirq_utils.to_gate object at 0x79128c569a80>**-1): 1},\n",
    "'C-U^256': {'cMULTamodN': 1, cirq.FREDKIN: 2, (<cirq_utils.to_gate object at 0x79128c5b9b40>**-1): 1}}"
   ]
  },
  {
   "cell_type": "code",
   "execution_count": null,
   "id": "cda32220-b714-48b8-8efc-3704fab405e1",
   "metadata": {},
   "outputs": [],
   "source": [
    "final operations = {cirq.H: {'count': 148, 'num_qubits': 1}, \n",
    "                    cirq.X: {'count': 17, 'num_qubits': 1},\n",
    "                    cirq.FREDKIN: {'count': 8, 'num_qubits': 3}, \n",
    "                    (<cirq_utils.to_gate object at 0x79128c69d870>**-1): {'count': 1, 'num_qubits': 7}, \n",
    "                    (cirq.CZ**0.5): {'count': 40, 'num_qubits': 2}, (cirq.CZ**0.25): {'count': 20, 'num_qubits': 2}, \n",
    "                    (<cirq_utils.to_gate object at 0x79128c5902e0>**-1): {'count': 8, 'num_qubits': 3}, \n",
    "                    cirq.CNOT: {'count': 16, 'num_qubits': 2}, \n",
    "                    cirq.ControlledGate(sub_gate=(<cirq_utils.to_gate object at 0x79128c57fd30>**-1), num_controls=2): {'count': 8, 'num_qubits': 5}, \n",
    "(cirq.CZ**-0.5): {'count': 63, 'num_qubits': 2}, \n",
    "(cirq.CZ**-0.25): {'count': 42, 'num_qubits': 2}, \n",
    "(cirq.CZ**-0.125): {'count': 21, 'num_qubits': 2}, \n",
    "(<cirq_utils.to_gate object at 0x79128c5199f0>**-1): {'count': 1, 'num_qubits': 7}, \n",
    "(<cirq_utils.to_gate object at 0x79128c569a80>**-1): {'count': 1, 'num_qubits': 7}, \n",
    "(<cirq_utils.to_gate object at 0x79128c5b9b40>**-1): {'count': 1, 'num_qubits': 7}}"
   ]
  }
 ],
 "metadata": {
  "kernelspec": {
   "display_name": "Python 3 (ipykernel)",
   "language": "python",
   "name": "python3"
  },
  "language_info": {
   "codemirror_mode": {
    "name": "ipython",
    "version": 3
   },
   "file_extension": ".py",
   "mimetype": "text/x-python",
   "name": "python",
   "nbconvert_exporter": "python",
   "pygments_lexer": "ipython3",
   "version": "3.10.14"
  }
 },
 "nbformat": 4,
 "nbformat_minor": 5
}
