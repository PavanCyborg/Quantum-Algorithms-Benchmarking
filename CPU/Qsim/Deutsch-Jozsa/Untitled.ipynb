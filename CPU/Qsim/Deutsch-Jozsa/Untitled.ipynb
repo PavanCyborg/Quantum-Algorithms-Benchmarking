{
 "cells": [
  {
   "cell_type": "markdown",
   "id": "3bb33436-0a1b-48ef-8e18-60477a45aa8d",
   "metadata": {},
   "source": [
    "!pip install psutil GPUtil pyudev"
   ]
  },
  {
   "cell_type": "code",
   "execution_count": 28,
   "id": "073cdc51-7328-4b02-95bb-3e81822cfb17",
   "metadata": {},
   "outputs": [
    {
     "name": "stdout",
     "output_type": "stream",
     "text": [
      "ExperimentResult(shots=0, success=True, meas_level=2, data=ExperimentResultData(partial_probability={'00': 0.5, '01': 0.0, '10': 0.0, '11': 0.5}, coeffmatrix=[0.25 0.   0.   0.   0.   0.   0.   0.   0.   0.   0.   0.   0.   0.\n",
      " 0.   0.25], densitymatrix=[[0.5+0.j 0. +0.j 0. +0.j 0. +0.j]\n",
      " [0. +0.j 0. +0.j 0. +0.j 0. +0.j]\n",
      " [0. +0.j 0. +0.j 0. +0.j 0. +0.j]\n",
      " [0. +0.j 0. +0.j 0. +0.j 0.5+0.j]]), header=QobjExperimentHeader(clbit_labels=[['meas', 0], ['meas', 1]], creg_sizes=[['meas', 2]], global_phase=0.0, memory_slots=2, metadata={}, n_qubits=2, name='circuit-129', qreg_sizes=[['q', 2]], qubit_labels=[['q', 0], ['q', 1]]), status=DONE, name='circuit-129', number_of_clock_cycles=3, processing_time_taken=0.00020837783813476562, running_time_taken=0.0010726451873779297)\n",
      "CPU: 12th Gen Intel(R) Core(TM) i9-12900\n",
      "GPUs: NVIDIA T400 4GB\n"
     ]
    }
   ],
   "source": [
    "import psutil\n",
    "\n",
    "import subprocess\n",
    "\n",
    "def get_cpu_info():\n",
    "    import sys,subprocess\n",
    "    if sys.platform == 'linux':\n",
    "        command = 'lscpu | grep \"Model name\"'\n",
    "    elif sys.platform == 'win32':\n",
    "        command = \"wmic cpu get name\"\n",
    "    else:\n",
    "        return None\n",
    "    cpu_info = subprocess.run(command, shell=True, capture_output=True, text=True)\n",
    "    cpu_info = str(cpu_info.stdout)\n",
    "    cpu_info = cpu_info.split(':', 1)[1].strip()\n",
    "    return cpu_info\n",
    "\n",
    "def get_gpu_info():\n",
    "    import GPUtil\n",
    "    gpus = GPUtil.getGPUs()\n",
    "    if gpus:\n",
    "        for gpu in gpus:\n",
    "            return (gpu.name)\n",
    "    else:\n",
    "        return None\n",
    "\n",
    "def get_vector_card_info():\n",
    "    try:\n",
    "        # Run lspci and get the output\n",
    "        lspci_output = subprocess.check_output(['lspci']).decode('utf-8')\n",
    "        vector_cards = []\n",
    "        for line in lspci_output.split('\\n'):\n",
    "            if 'Vector' in line:  # Adjust this string to match your vector card's identifier\n",
    "                vector_cards.append(line)\n",
    "        return str(vector_cards[0]) if vector_cards else None\n",
    "    except Exception as e:\n",
    "        return f\"Error retrieving vector card info: {e}\"\n",
    "\n",
    "def print_hardware_info():\n",
    "    cpu_info = get_cpu_info()\n",
    "    gpu_info = get_gpu_info()\n",
    "    vector_card_info = get_vector_card_info()\n",
    "    \n",
    "    if cpu_info:\n",
    "        cpu_info = cpu_info.split(':', 1)[1].strip()\n",
    "        print(f\"CPU: {cpu_info}\")\n",
    "    if gpu_info:\n",
    "        print(f\"GPUs: {gpu_info[0]}\")\n",
    "    if vector_card_info:\n",
    "        vector_card_info = ' '.join(vector_card_info.split()[1:])\n",
    "        print(f\"Vector Cards: {vector_card_info}\")\n",
    "    if not any([cpu_info, gpu_info, vector_card_info]):\n",
    "        print(\"No hardware information found.\")\n",
    "\n",
    "# Integrate with Qiskit\n",
    "from qiskit import BasicAer, execute, QuantumCircuit\n",
    "\n",
    "# Your quantum circuit code\n",
    "qc = QuantumCircuit(2)\n",
    "qc.h(0)\n",
    "qc.cx(0, 1)\n",
    "qc.measure_all()\n",
    "\n",
    "# Execute on BasicAer's dm_simulator\n",
    "simulator = BasicAer.get_backend('dm_simulator')\n",
    "job = execute(qc, simulator)\n",
    "result = job.result()\n",
    "# Print the result of the execution\n",
    "print(result.results[0])\n",
    "\n",
    "# Print hardware information\n",
    "print_hardware_info()\n"
   ]
  },
  {
   "cell_type": "code",
   "execution_count": 19,
   "id": "d5d50278-b5ed-40bf-adbf-279f9050d6f5",
   "metadata": {},
   "outputs": [
    {
     "name": "stdout",
     "output_type": "stream",
     "text": [
      "52:00.0 Co-processor: NEC Corporation Vector Engine 1.0 (rev 01)\n"
     ]
    }
   ],
   "source": [
    "vector_card_info = '52:00.0 Co-processor: NEC Corporation Vector Engine 1.0 (rev 01)'\n",
    "print(vector_card_info)"
   ]
  },
  {
   "cell_type": "code",
   "execution_count": 20,
   "id": "cdf3e3dd-d28c-41ab-a304-0817ef71feba",
   "metadata": {},
   "outputs": [
    {
     "name": "stdout",
     "output_type": "stream",
     "text": [
      "Co-processor: NEC Corporation Vector Engine 1.0 (rev 01)\n"
     ]
    }
   ],
   "source": [
    "# Split the string by spaces and rejoin it omitting the first part\n",
    "\n",
    "\n",
    "print(vector_card_info)"
   ]
  },
  {
   "cell_type": "code",
   "execution_count": 11,
   "id": "e32011d0-0e0c-4315-bb92-319357520813",
   "metadata": {},
   "outputs": [],
   "source": [
    "import sys"
   ]
  },
  {
   "cell_type": "code",
   "execution_count": 14,
   "id": "9f52a17c-8c00-450f-ba44-c0a4b2e4d0b4",
   "metadata": {},
   "outputs": [
    {
     "data": {
      "text/plain": [
       "'linux'"
      ]
     },
     "execution_count": 14,
     "metadata": {},
     "output_type": "execute_result"
    }
   ],
   "source": [
    "sys.platform"
   ]
  },
  {
   "cell_type": "code",
   "execution_count": 15,
   "id": "17623d27-83d4-4fcd-9689-811427abdb0c",
   "metadata": {},
   "outputs": [
    {
     "data": {
      "text/plain": [
       "'win32'"
      ]
     },
     "execution_count": 15,
     "metadata": {},
     "output_type": "execute_result"
    }
   ],
   "source": [
    "'win32'"
   ]
  },
  {
   "cell_type": "code",
   "execution_count": 29,
   "id": "59f23de1-0426-47bd-85f9-686d0988e27a",
   "metadata": {},
   "outputs": [
    {
     "name": "stdout",
     "output_type": "stream",
     "text": [
      "CPU model: x86_64\n"
     ]
    }
   ],
   "source": [
    "import platform\n",
    "cpu_model = platform.processor()\n",
    "print(\"CPU model:\", cpu_model)"
   ]
  },
  {
   "cell_type": "code",
   "execution_count": 32,
   "id": "74479b92-b719-4286-80d2-fa3f2a95ed58",
   "metadata": {},
   "outputs": [
    {
     "name": "stdout",
     "output_type": "stream",
     "text": [
      "Collecting py-cpuinfo\n",
      "  Downloading py_cpuinfo-9.0.0-py3-none-any.whl.metadata (794 bytes)\n",
      "Downloading py_cpuinfo-9.0.0-py3-none-any.whl (22 kB)\n",
      "Installing collected packages: py-cpuinfo\n",
      "Successfully installed py-cpuinfo-9.0.0\n",
      "\n",
      "\u001b[1m[\u001b[0m\u001b[34;49mnotice\u001b[0m\u001b[1;39;49m]\u001b[0m\u001b[39;49m A new release of pip is available: \u001b[0m\u001b[31;49m24.0\u001b[0m\u001b[39;49m -> \u001b[0m\u001b[32;49m24.2\u001b[0m\n",
      "\u001b[1m[\u001b[0m\u001b[34;49mnotice\u001b[0m\u001b[1;39;49m]\u001b[0m\u001b[39;49m To update, run: \u001b[0m\u001b[32;49mpip install --upgrade pip\u001b[0m\n"
     ]
    }
   ],
   "source": [
    "!pip install py-cpuinfo"
   ]
  },
  {
   "cell_type": "code",
   "execution_count": 33,
   "id": "0c7069a4-1fb4-4867-b741-6de50a77c5c0",
   "metadata": {},
   "outputs": [
    {
     "name": "stdout",
     "output_type": "stream",
     "text": [
      "Processor name: 12th Gen Intel(R) Core(TM) i9-12900\n"
     ]
    }
   ],
   "source": [
    "import cpuinfo\n",
    "processor_name = cpuinfo.get_cpu_info()['brand_raw']\n",
    "print(f\"Processor name: {processor_name}\")"
   ]
  },
  {
   "cell_type": "code",
   "execution_count": 30,
   "id": "d335660b-0b80-4ad9-9ad2-032e27a92d35",
   "metadata": {},
   "outputs": [],
   "source": [
    "def get_gpu_info():\n",
    "    import GPUtil\n",
    "    GPU = None\n",
    "    gpus = GPUtil.getGPUs()\n",
    "    if gpus:\n",
    "        for gpu in gpus:\n",
    "            GPU = gpu.name\n",
    "        return GPU\n",
    "    else:\n",
    "        return None\n",
    "\n",
    "GPU = get_gpu_info()"
   ]
  },
  {
   "cell_type": "code",
   "execution_count": 31,
   "id": "f155a3be-b478-4ba0-a6d9-332e4b54a66f",
   "metadata": {},
   "outputs": [
    {
     "data": {
      "text/plain": [
       "'NVIDIA T400 4GB'"
      ]
     },
     "execution_count": 31,
     "metadata": {},
     "output_type": "execute_result"
    }
   ],
   "source": [
    "GPU"
   ]
  },
  {
   "cell_type": "code",
   "execution_count": 36,
   "id": "30b86189-f9c7-48e8-98d2-3a83651f1029",
   "metadata": {},
   "outputs": [],
   "source": [
    "def get_vector_card_info():\n",
    "    import subprocess\n",
    "    try:\n",
    "        # Run lspci and get the output\n",
    "        lspci_output = subprocess.check_output(['lspci']).decode('utf-8')\n",
    "        vector_cards = []\n",
    "        for line in lspci_output.split('\\n'):\n",
    "            if 'Vector' in line:  # Adjust this string to match your vector card's identifier\n",
    "                vector_cards.append(line)\n",
    "        vector_card_info = str(vector_cards[0])\n",
    "        vector_card_info = ' '.join(vector_card_info.split()[1:])\n",
    "        return vector_card_info if vector_cards else None\n",
    "    except Exception as e:\n",
    "        return f\"Error retrieving vector card info: {e}\"\n",
    "\n",
    "vector_card_info = get_vector_card_info()"
   ]
  },
  {
   "cell_type": "code",
   "execution_count": 37,
   "id": "95265294-468f-4358-a243-2b6f81a94ce0",
   "metadata": {},
   "outputs": [
    {
     "data": {
      "text/plain": [
       "'Error retrieving vector card info: list index out of range'"
      ]
     },
     "execution_count": 37,
     "metadata": {},
     "output_type": "execute_result"
    }
   ],
   "source": [
    "vector_card_info"
   ]
  },
  {
   "cell_type": "code",
   "execution_count": null,
   "id": "7507a0a2-a0e4-4484-8f3e-a611cd47f4e4",
   "metadata": {},
   "outputs": [],
   "source": []
  }
 ],
 "metadata": {
  "kernelspec": {
   "display_name": "Python 3",
   "language": "python",
   "name": "python3"
  },
  "language_info": {
   "codemirror_mode": {
    "name": "ipython",
    "version": 3
   },
   "file_extension": ".py",
   "mimetype": "text/x-python",
   "name": "python",
   "nbconvert_exporter": "python",
   "pygments_lexer": "ipython3",
   "version": "3.8.19"
  }
 },
 "nbformat": 4,
 "nbformat_minor": 5
}
