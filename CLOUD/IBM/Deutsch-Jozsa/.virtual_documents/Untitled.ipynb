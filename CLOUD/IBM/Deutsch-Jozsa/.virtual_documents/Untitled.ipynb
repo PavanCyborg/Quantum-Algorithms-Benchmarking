


import psutil

import subprocess

def get_cpu_info():
    import sys,subprocess
    if sys.platform == 'linux':
        command = 'lscpu | grep "Model name"'
    elif sys.platform == 'win32':
        command = "wmic cpu get name"
    else:
        return None
    cpu_info = subprocess.run(command, shell=True, capture_output=True, text=True)
    cpu_info = str(cpu_info.stdout)
    cpu_info = cpu_info.split(':', 1)[1].strip()
    return cpu_info

def get_gpu_info():
    import GPUtil
    gpus = GPUtil.getGPUs()
    if gpus:
        for gpu in gpus:
            return (gpu.name)
    else:
        return None

def get_vector_card_info():
    try:
        # Run lspci and get the output
        lspci_output = subprocess.check_output(['lspci']).decode('utf-8')
        vector_cards = []
        for line in lspci_output.split('\n'):
            if 'Vector' in line:  # Adjust this string to match your vector card's identifier
                vector_cards.append(line)
        return str(vector_cards[0]) if vector_cards else None
    except Exception as e:
        return f"Error retrieving vector card info: {e}"

def print_hardware_info():
    cpu_info = get_cpu_info()
    gpu_info = get_gpu_info()
    vector_card_info = get_vector_card_info()
    
    if cpu_info:
        cpu_info = cpu_info.split(':', 1)[1].strip()
        print(f"CPU: {cpu_info}")
    if gpu_info:
        print(f"GPUs: {gpu_info[0]}")
    if vector_card_info:
        vector_card_info = ' '.join(vector_card_info.split()[1:])
        print(f"Vector Cards: {vector_card_info}")
    if not any([cpu_info, gpu_info, vector_card_info]):
        print("No hardware information found.")

# Integrate with Qiskit
from qiskit import BasicAer, execute, QuantumCircuit

# Your quantum circuit code
qc = QuantumCircuit(2)
qc.h(0)
qc.cx(0, 1)
qc.measure_all()

# Execute on BasicAer's dm_simulator
simulator = BasicAer.get_backend('dm_simulator')
job = execute(qc, simulator)
result = job.result()
# Print the result of the execution
print(result.results[0])

# Print hardware information
print_hardware_info()



vector_card_info = '52:00.0 Co-processor: NEC Corporation Vector Engine 1.0 (rev 01)'
print(vector_card_info)


# Split the string by spaces and rejoin it omitting the first part


print(vector_card_info)


import sys


sys.platform


'win32'


import platform
cpu_model = platform.processor()
print("CPU model:", cpu_model)


!pip install py-cpuinfo


import cpuinfo
processor_name = cpuinfo.get_cpu_info()['brand_raw']
print(f"Processor name: {processor_name}")


def get_gpu_info():
    import GPUtil
    GPU = None
    gpus = GPUtil.getGPUs()
    if gpus:
        for gpu in gpus:
            GPU = gpu.name
        return GPU
    else:
        return None

GPU = get_gpu_info()


GPU


def get_vector_card_info():
    import subprocess
    try:
        # Run lspci and get the output
        lspci_output = subprocess.check_output(['lspci']).decode('utf-8')
        vector_cards = []
        for line in lspci_output.split('\n'):
            if 'Vector' in line:  # Adjust this string to match your vector card's identifier
                vector_cards.append(line)
        vector_card_info = str(vector_cards[0])
        vector_card_info = ' '.join(vector_card_info.split()[1:])
        return vector_card_info if vector_cards else None
    except Exception as e:
        return f"Error retrieving vector card info: {e}"

vector_card_info = get_vector_card_info()


vector_card_info


from qiskit import QuantumCircuit, transpile
from qiskit_ibm_runtime import QiskitRuntimeService, Session, Sampler
import logging
import requests

requests.adapters.DEFAULT_RETRIES = 5  # Increase the number of retries
requests.adapters.DEFAULT_TIMEOUT = 60  # Increase the timeout

logging.basicConfig(level=logging.DEBUG)

# Initialize the Qiskit Runtime Service using the API key
service = QiskitRuntimeService(channel="ibm_quantum", token="127e23318bfacf5fb872cca46ce3937d09f844ad1cb596f97a3eea4ea9e445b1c6905eac9af2cf7d01bb10868c7aac70da1cefd4db724b0a53f4dc57b5d8d95c")

# Get a backend
backend = service.least_busy(min_num_qubits=2, simulator=False)
print("Running on backend:", backend)

# Create a quantum circuit with 2 qubits and 2 classical bits
qc = QuantumCircuit(2, 2)

# Apply a Hadamard gate on qubit 0
qc.h(0)

# Apply a CNOT gate (qubit 0 -> qubit 1)
qc.cx(0, 1)

# Measure both qubits
qc.measure([0, 1], [0, 1])

# Transpile the circuit for the selected backend
transpiled_qc = transpile(qc, backend)

# Execute the circuit using Qiskit Runtime Service
with Session(service=service, backend=backend) as session:
    sampler = Sampler(session=session)
    job = sampler.run(circuits=transpiled_qc)

    # Get the result and print the counts
    result = job.result()
    counts = result.quasi_dists[0].binary_probabilities()
    print("Result:", counts)



result



